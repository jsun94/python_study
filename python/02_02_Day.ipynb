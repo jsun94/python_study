{
 "cells": [
  {
   "cell_type": "markdown",
   "metadata": {},
   "source": [
    "## 문자열 전체 반전하기 "
   ]
  },
  {
   "cell_type": "code",
   "execution_count": 4,
   "metadata": {},
   "outputs": [
    {
     "name": "stdout",
     "output_type": "stream",
     "text": [
      "!dlrow olleH\n",
      "!dlrow olleH\n"
     ]
    }
   ],
   "source": [
    "def revert(s):\n",
    "    if s :\n",
    "        s = s[-1] + revert(s[:-1])\n",
    "    return s\n",
    "\n",
    "def revert2(string):\n",
    "    return string[::-1]#마지막 파라미터 - step ->default =1\n",
    "\n",
    "\n",
    "if __name__ == \"__main__\":\n",
    "    str1 ='Hello world!'\n",
    "    str2 = revert(str1)\n",
    "    str3 = revert2(str1)\n",
    "    print(str2)\n",
    "    print(str3)"
   ]
  },
  {
   "cell_type": "markdown",
   "metadata": {},
   "source": [
    "## 문자열 단어 단위로 반전하기 "
   ]
  },
  {
   "cell_type": "code",
   "execution_count": 17,
   "metadata": {},
   "outputs": [
    {
     "name": "stdout",
     "output_type": "stream",
     "text": [
      "['다', '있', '미', '재', ' ', '말', '정', ' ', '즘', '리', '고', '알', ' ', '썬', '이', '파']\n",
      "['다', '있', '미', '재', ' ', '말', '정', ' ', '즘', '리', '고', '알', ' ', '썬', '이', '파']\n",
      "다있미재 말정 즘리고알 썬이파\n"
     ]
    }
   ],
   "source": [
    "def reverser(string1, p1 = 0, p2 = None):\n",
    "    if(len(string1) < 2):\n",
    "        return string1\n",
    "    p2 = p2 or len(string1) - 1\n",
    "    \n",
    "    while p1 < p2 :\n",
    "        string1[p1], string1[p2] = string1[p2], string1[p1]\n",
    "        p1 += 1\n",
    "        p2 -= 1\n",
    "        \n",
    "def reversing_words_setence_logic(string1):\n",
    "    reverser(string1)\n",
    "    p = 0\n",
    "    start = 0\n",
    "    while p < len(string1):\n",
    "        if string1[p] == u\"\\u0020\":\n",
    "            reverser(string1,start,p-1)\n",
    "            start = p+1\n",
    "        p +=1\n",
    "    print(start, p)\n",
    "    reverser(string1, start, p-1)\n",
    "    return \"\".join(string1)\n",
    "    \n",
    "if __name__ == '__main__':\n",
    "    str1 = '파이썬 알고리즘 정말 재미있다'\n",
    "    str2 = reversing_words_sentence_logic(list(str1))\n",
    "    print(str2)"
   ]
  },
  {
   "cell_type": "code",
   "execution_count": 18,
   "metadata": {},
   "outputs": [],
   "source": [
    "fs = frozenset((0,1,2,3,4))"
   ]
  },
  {
   "cell_type": "code",
   "execution_count": 19,
   "metadata": {},
   "outputs": [
    {
     "data": {
      "text/plain": [
       "True"
      ]
     },
     "execution_count": 19,
     "metadata": {},
     "output_type": "execute_result"
    }
   ],
   "source": [
    "2 in fs"
   ]
  },
  {
   "cell_type": "code",
   "execution_count": 20,
   "metadata": {},
   "outputs": [
    {
     "data": {
      "text/plain": [
       "5"
      ]
     },
     "execution_count": 20,
     "metadata": {},
     "output_type": "execute_result"
    }
   ],
   "source": [
    "len(fs)"
   ]
  },
  {
   "cell_type": "markdown",
   "metadata": {},
   "source": [
    "##  set method"
   ]
  },
  {
   "cell_type": "code",
   "execution_count": 21,
   "metadata": {},
   "outputs": [
    {
     "data": {
      "text/plain": [
       "{'apple', 'buffy', 'cccc', 'hi'}"
      ]
     },
     "execution_count": 21,
     "metadata": {},
     "output_type": "execute_result"
    }
   ],
   "source": [
    "people = {'buffy', 'apple', 'cccc'}\n",
    "people.add('hi')\n",
    "people"
   ]
  },
  {
   "cell_type": "code",
   "execution_count": 24,
   "metadata": {},
   "outputs": [],
   "source": [
    "people = {'buffy', 'apple', 'cccc'}\n",
    "people.update({'buffy','buff'})"
   ]
  },
  {
   "cell_type": "code",
   "execution_count": 25,
   "metadata": {},
   "outputs": [
    {
     "data": {
      "text/plain": [
       "{'apple', 'buff', 'buffy', 'cccc'}"
      ]
     },
     "execution_count": 25,
     "metadata": {},
     "output_type": "execute_result"
    }
   ],
   "source": [
    "people"
   ]
  },
  {
   "cell_type": "markdown",
   "metadata": {},
   "source": [
    "## set과 list "
   ]
  },
  {
   "cell_type": "code",
   "execution_count": 35,
   "metadata": {},
   "outputs": [
    {
     "name": "stdout",
     "output_type": "stream",
     "text": [
      "[3, 2, 11, 4]\n"
     ]
    }
   ],
   "source": [
    "def remove_dup(l1):\n",
    "    return list(set(l1))\n",
    "\n",
    "def intersection(l1,l2):\n",
    "    return list(set(l1) & set(l2))\n",
    "\n",
    "def test_set_list():\n",
    "    l1 = [1,2,3,4,5,6,7,8,9,11,11,15]\n",
    "    l2 = [2,3,4,11]\n",
    "    assert(remove_dup(l1) == [1,2,3,4,5,6,7,8,9,11,15])\n",
    "    print(intersection(l1,l2))\n",
    "\n",
    "if __name__ == \"__main__\":\n",
    "    test_set_list()"
   ]
  },
  {
   "cell_type": "markdown",
   "metadata": {},
   "source": [
    "## 딕셔너리 "
   ]
  },
  {
   "cell_type": "code",
   "execution_count": 39,
   "metadata": {},
   "outputs": [
    {
     "data": {
      "text/plain": [
       "'감독'"
      ]
     },
     "execution_count": 39,
     "metadata": {},
     "output_type": "execute_result"
    }
   ],
   "source": [
    "tarantino = {}\n",
    "tarantino['name'] = '쿠엔틴 타란티노'\n",
    "tarantino['job'] = '감독'\n",
    "tarantino['job']"
   ]
  },
  {
   "cell_type": "code",
   "execution_count": 49,
   "metadata": {},
   "outputs": [],
   "source": [
    "sunnydale = dict({'name': '버퍼','age' : 31, 'hobby' : 'game'})"
   ]
  },
  {
   "cell_type": "code",
   "execution_count": 42,
   "metadata": {},
   "outputs": [
    {
     "data": {
      "text/plain": [
       "{'name': '버퍼', 'age': 31, 'hobby': 'game'}"
      ]
     },
     "execution_count": 42,
     "metadata": {},
     "output_type": "execute_result"
    }
   ],
   "source": [
    "sunnydale"
   ]
  },
  {
   "cell_type": "code",
   "execution_count": 43,
   "metadata": {},
   "outputs": [
    {
     "data": {
      "text/plain": [
       "'버퍼'"
      ]
     },
     "execution_count": 43,
     "metadata": {},
     "output_type": "execute_result"
    }
   ],
   "source": [
    "sunnydale['name']"
   ]
  },
  {
   "cell_type": "code",
   "execution_count": 45,
   "metadata": {},
   "outputs": [
    {
     "data": {
      "text/plain": [
       "31"
      ]
     },
     "execution_count": 45,
     "metadata": {},
     "output_type": "execute_result"
    }
   ],
   "source": [
    "sunnydale['age']"
   ]
  },
  {
   "cell_type": "code",
   "execution_count": 50,
   "metadata": {},
   "outputs": [],
   "source": [
    "sunnydale = dict([(\"name\",\"joo\"),(\"age\",31),(\"hobby\",\"nothing\")])"
   ]
  },
  {
   "cell_type": "code",
   "execution_count": 51,
   "metadata": {},
   "outputs": [
    {
     "data": {
      "text/plain": [
       "{'name': 'joo', 'age': 31, 'hobby': 'nothing'}"
      ]
     },
     "execution_count": 51,
     "metadata": {},
     "output_type": "execute_result"
    }
   ],
   "source": [
    "sunnydale"
   ]
  },
  {
   "cell_type": "code",
   "execution_count": 52,
   "metadata": {},
   "outputs": [],
   "source": [
    "sun = dict({'name':'joo'})"
   ]
  },
  {
   "cell_type": "code",
   "execution_count": 53,
   "metadata": {},
   "outputs": [
    {
     "data": {
      "text/plain": [
       "{'name': 'joo'}"
      ]
     },
     "execution_count": 53,
     "metadata": {},
     "output_type": "execute_result"
    }
   ],
   "source": [
    "sun"
   ]
  },
  {
   "cell_type": "code",
   "execution_count": 56,
   "metadata": {},
   "outputs": [
    {
     "name": "stdout",
     "output_type": "stream",
     "text": [
      "dict[key] 사용\n",
      "{'key1': ['value1', 'value2'], 'key2': ['value3', 'value4', 'value5']}\n",
      "setdefault() 메서드 사용\n",
      "{'key1': ['value1', 'value2'], 'key2': ['value3', 'value4', 'value5']}\n"
     ]
    }
   ],
   "source": [
    "def usual_dict(dict_data):\n",
    "    print('dict[key] 사용')\n",
    "    newdata = {}\n",
    "    for k, v in dict_data:\n",
    "        if k in newdata:\n",
    "            newdata[k].append(v)\n",
    "        else:\n",
    "            newdata[k] = [v]\n",
    "    return newdata\n",
    "            \n",
    "def setdefault_dict(dict_data):\n",
    "    print(\"setdefault() 메서드 사용\")\n",
    "    newdata = {}\n",
    "    for k,v in dict_data:\n",
    "        newdata.setdefault(k,[]).append(v)\n",
    "    return newdata\n",
    "    \n",
    "    \n",
    "    \n",
    "def test_setdef():\n",
    "    dict_data = ((\"key1\",\"value1\"),\n",
    "                (\"key1\",\"value2\"),\n",
    "                (\"key2\",\"value3\"),\n",
    "                (\"key2\",\"value4\"),\n",
    "                (\"key2\",\"value5\"),)\n",
    "    \n",
    "    print(usual_dict(dict_data))\n",
    "    print(setdefault_dict(dict_data))\n",
    "    \n",
    "if __name__ == \"__main__\":\n",
    "    test_setdef()"
   ]
  },
  {
   "cell_type": "markdown",
   "metadata": {},
   "source": [
    "## 딕셔너리 성능 측정"
   ]
  },
  {
   "cell_type": "code",
   "execution_count": null,
   "metadata": {},
   "outputs": [
    {
     "name": "stdout",
     "output_type": "stream",
     "text": [
      "10000,      0.077,      0.001\n",
      "30000,      0.214,      0.001\n",
      "50000,      0.361,      0.001\n",
      "70000,      0.525,      0.001\n",
      "90000,      0.657,      0.001\n",
      "110000,      0.822,      0.001\n",
      "130000,      0.937,      0.001\n",
      "150000,      1.134,      0.001\n",
      "170000,      1.276,      0.001\n",
      "190000,      1.482,      0.001\n",
      "210000,      1.590,      0.001\n",
      "230000,      1.761,      0.001\n",
      "250000,      1.899,      0.001\n",
      "270000,      2.029,      0.002\n",
      "290000,      2.129,      0.001\n",
      "310000,      2.359,      0.001\n",
      "330000,      2.482,      0.001\n",
      "350000,      2.699,      0.001\n",
      "370000,      2.796,      0.001\n",
      "390000,      2.975,      0.001\n",
      "410000,      3.118,      0.001\n",
      "430000,      3.320,      0.001\n",
      "450000,      3.477,      0.001\n",
      "470000,      3.455,      0.001\n",
      "490000,      3.704,      0.001\n",
      "510000,      3.889,      0.002\n",
      "530000,      4.003,      0.001\n",
      "550000,      4.163,      0.001\n",
      "570000,      4.338,      0.001\n",
      "590000,      4.523,      0.001\n",
      "610000,      4.703,      0.001\n",
      "630000,      4.854,      0.002\n"
     ]
    }
   ],
   "source": [
    "import timeit\n",
    "import random\n",
    "\n",
    "for i in range(10000,1000001, 20000 ):\n",
    "    t = timeit.Timer(\"random.randrange(%d) in x\" %i,\n",
    "                    \"from __main__ import random, x\")\n",
    "    x = list(range(i))\n",
    "    lst_time = t.timeit(number = 1000)\n",
    "    x = {j : None for j in range(i)}\n",
    "    d_time = t.timeit(number = 1000)\n",
    "    print(\"%d, %10.3f, %10.3f\" %(i, lst_time, d_time))"
   ]
  },
  {
   "cell_type": "code",
   "execution_count": 2,
   "metadata": {},
   "outputs": [
    {
     "name": "stdout",
     "output_type": "stream",
     "text": [
      "{'a': [1], 'c': [3], 'b': [2]}\n",
      "defaultdict(<class 'list'>, {'a': [1], 'c': [3], 'b': [2]})\n"
     ]
    }
   ],
   "source": [
    "from collections import defaultdict\n",
    "\n",
    "def defaultdict_example():\n",
    "    pairs = {(\"a\",1),(\"b\",2),(\"c\",3)}\n",
    "    \n",
    "    d1 = {}\n",
    "    for key, value in pairs:\n",
    "        if key not in d1:\n",
    "            d1[key] = []\n",
    "        d1[key].append(value)\n",
    "    print(d1)\n",
    "    \n",
    "    d2 = defaultdict(list)\n",
    "    for key, value in pairs:\n",
    "        d2[key].append(value)\n",
    "    print(d2)\n",
    "    \n",
    "if __name__ == \"__main__\":\n",
    "    defaultdict_example()"
   ]
  },
  {
   "cell_type": "code",
   "execution_count": 10,
   "metadata": {},
   "outputs": [
    {
     "name": "stdout",
     "output_type": "stream",
     "text": [
      "c [1]\n",
      "b [2]\n",
      "a [3]\n",
      "c 1\n",
      "b 2\n",
      "a 3\n"
     ]
    }
   ],
   "source": [
    "from collections import OrderedDict\n",
    "\n",
    "def orderedDict_example():\n",
    "    pairs = [(\"c\",1),(\"b\",2),(\"a\",3)]\n",
    "    \n",
    "    d1 = {}\n",
    "    for key, value in pairs:\n",
    "        if key not in d1:\n",
    "            d1[key] = []\n",
    "        d1[key].append(value)\n",
    "    for key in d1:\n",
    "        print(key,d1[key])\n",
    "        \n",
    "    d2 = OrderedDict(pairs)\n",
    "    for key in d2:\n",
    "        print(key,d2[key])\n",
    "        \n",
    "if __name__ == \"__main__\":\n",
    "    orderedDict_example()"
   ]
  },
  {
   "cell_type": "markdown",
   "metadata": {},
   "source": [
    "## 카운터 딕셔너리 "
   ]
  },
  {
   "cell_type": "code",
   "execution_count": 14,
   "metadata": {},
   "outputs": [
    {
     "name": "stdout",
     "output_type": "stream",
     "text": [
      "항목의 발생 횟루르 매핑하는 딕셔너리를 생성한다.\n",
      "Counter({5: 4, 1: 3, 2: 3, 3: 1, 4: 1})\n",
      "항목의 발생 회수를 수동으로 갱신하거나, update() 메서드를 사용할 수 있다.\n",
      "Counter({1: 5, 2: 4, 5: 4, 3: 2, 4: 1})\n",
      "Counter({1: 5, 2: 4, 5: 4, 3: 2, 4: 2})\n",
      "Counter({1: 5, 2: 4, 5: 4, 3: 3, 4: 2})\n"
     ]
    }
   ],
   "source": [
    "from collections import Counter\n",
    "\n",
    "def counter_example():\n",
    "    print(\"항목의 발생 횟루르 매핑하는 딕셔너리를 생성한다.\")\n",
    "    seq1 = [1,2,3,5,1,2,5,5,2,5,1,4]\n",
    "    seq_counts = Counter(seq1)\n",
    "    print(seq_counts)\n",
    "    \n",
    "    print(\"항목의 발생 회수를 수동으로 갱신하거나, update() 메서드를 사용할 수 있다.\")\n",
    "    \n",
    "    seq2 = [1,2,3]\n",
    "    seq_counts.update(seq2)\n",
    "    \n",
    "    print(seq_counts)\n",
    "\n",
    "    seq3 = [1,4,3]\n",
    "    for key in seq3:\n",
    "        seq_counts[key] +=1\n",
    "        print(seq_counts)\n",
    "    \n",
    "if __name__ == \"__main__\":\n",
    "    counter_example()"
   ]
  },
  {
   "cell_type": "code",
   "execution_count": 15,
   "metadata": {},
   "outputs": [],
   "source": [
    "def f(x):\n",
    "    return x % 2 != 0 and x % 3 != 0"
   ]
  },
  {
   "cell_type": "code",
   "execution_count": 16,
   "metadata": {},
   "outputs": [
    {
     "data": {
      "text/plain": [
       "False"
      ]
     },
     "execution_count": 16,
     "metadata": {},
     "output_type": "execute_result"
    }
   ],
   "source": [
    "f(33)"
   ]
  },
  {
   "cell_type": "code",
   "execution_count": 17,
   "metadata": {},
   "outputs": [
    {
     "data": {
      "text/plain": [
       "True"
      ]
     },
     "execution_count": 17,
     "metadata": {},
     "output_type": "execute_result"
    }
   ],
   "source": [
    "f(17)"
   ]
  },
  {
   "cell_type": "code",
   "execution_count": 21,
   "metadata": {},
   "outputs": [
    {
     "data": {
      "text/plain": [
       "[5, 7, 11, 13, 17, 19, 23]"
      ]
     },
     "execution_count": 21,
     "metadata": {},
     "output_type": "execute_result"
    }
   ],
   "source": [
    "list(filter(f, range(2,25)))"
   ]
  },
  {
   "cell_type": "code",
   "execution_count": 19,
   "metadata": {},
   "outputs": [
    {
     "data": {
      "text/plain": [
       "[1, 8, 27, 64, 125, 216, 343, 512, 729, 1000]"
      ]
     },
     "execution_count": 19,
     "metadata": {},
     "output_type": "execute_result"
    }
   ],
   "source": [
    "def cube(x):\n",
    "    return x*x*x\n",
    "\n",
    "list(map(cube,range(1,11)))"
   ]
  },
  {
   "cell_type": "code",
   "execution_count": 22,
   "metadata": {},
   "outputs": [
    {
     "data": {
      "text/plain": [
       "[(0, 0), (1, 1), (2, 4), (3, 9), (4, 16), (5, 25), (6, 36), (7, 49)]"
      ]
     },
     "execution_count": 22,
     "metadata": {},
     "output_type": "execute_result"
    }
   ],
   "source": [
    "seq = range(8)\n",
    "def squar(x) : return x**2\n",
    "\n",
    "list(zip(seq,map(squar,seq)))"
   ]
  },
  {
   "cell_type": "code",
   "execution_count": 23,
   "metadata": {},
   "outputs": [
    {
     "data": {
      "text/plain": [
       "10.0"
      ]
     },
     "execution_count": 23,
     "metadata": {},
     "output_type": "execute_result"
    }
   ],
   "source": [
    "def area(b,h):\n",
    "    return 0.5 * b * h\n",
    "\n",
    "area(5,4)"
   ]
  },
  {
   "cell_type": "code",
   "execution_count": 25,
   "metadata": {},
   "outputs": [
    {
     "data": {
      "text/plain": [
       "10.0"
      ]
     },
     "execution_count": 25,
     "metadata": {},
     "output_type": "execute_result"
    }
   ],
   "source": [
    "area1 = lambda b, h: 0.5*b*h\n",
    "area1(5,4)"
   ]
  },
  {
   "cell_type": "code",
   "execution_count": 27,
   "metadata": {},
   "outputs": [
    {
     "data": {
      "text/plain": [
       "{'name': '아스틴', 'age': 23}"
      ]
     },
     "execution_count": 27,
     "metadata": {},
     "output_type": "execute_result"
    }
   ],
   "source": [
    "import pickle\n",
    "\n",
    "x = {}\n",
    "x[\"name\"] = \"아스틴\"\n",
    "x[\"age\"] = 23\n",
    "with open(\"name.pkl\",\"wb\") as f:\n",
    "    pickle.dump(x,f)\n",
    "    \n",
    "with open(\"name.pkl\",\"rb\") as f:\n",
    "    name = pickle.load(f)\n",
    "    \n",
    "name"
   ]
  },
  {
   "cell_type": "code",
   "execution_count": 28,
   "metadata": {},
   "outputs": [
    {
     "data": {
      "text/plain": [
       "[0]"
      ]
     },
     "execution_count": 28,
     "metadata": {},
     "output_type": "execute_result"
    }
   ],
   "source": [
    "ab = [0,1,2]\n",
    "ab[:1]"
   ]
  },
  {
   "cell_type": "code",
   "execution_count": 29,
   "metadata": {},
   "outputs": [
    {
     "data": {
      "text/plain": [
       "[2]"
      ]
     },
     "execution_count": 29,
     "metadata": {},
     "output_type": "execute_result"
    }
   ],
   "source": [
    "ab[2:]"
   ]
  },
  {
   "cell_type": "code",
   "execution_count": 35,
   "metadata": {},
   "outputs": [
    {
     "name": "stdout",
     "output_type": "stream",
     "text": [
      "Fi : 0, Fc : 0\n",
      "Fi : 0, Fc : 1\n",
      "i : 0, c : 1, cc : 2\n",
      "Fi : 1, Fc : 2\n",
      "i : 1, c : 2, cc : 1\n",
      "i : 0, c : 0, cc : 12\n",
      "i : 0, c : 0, cc : 21\n",
      "Fi : 1, Fc : 1\n",
      "Fi : 0, Fc : 0\n",
      "i : 0, c : 0, cc : 2\n",
      "Fi : 1, Fc : 2\n",
      "i : 1, c : 2, cc : 0\n",
      "i : 1, c : 1, cc : 02\n",
      "i : 1, c : 1, cc : 20\n",
      "Fi : 2, Fc : 2\n",
      "Fi : 0, Fc : 0\n",
      "i : 0, c : 0, cc : 1\n",
      "Fi : 1, Fc : 1\n",
      "i : 1, c : 1, cc : 0\n",
      "i : 2, c : 2, cc : 01\n",
      "i : 2, c : 2, cc : 10\n",
      "['012', '021', '102', '120', '201', '210']\n"
     ]
    }
   ],
   "source": [
    "import itertools\n",
    "\n",
    "def perm(s):\n",
    "    if len(s) <2:\n",
    "        return s\n",
    "    res = []\n",
    "    for i,c in enumerate(s):\n",
    "        print(\"Fi : %s, Fc : %s\"%(i,c))\n",
    "        for cc in perm(s[:i] +s[i+1:]):\n",
    "            print(\"i : %s, c : %s, cc : %s\"%(i,c,cc))\n",
    "            res.append(c + cc)\n",
    "    return res\n",
    "\n",
    "def perm2(s):\n",
    "    res = itertools.permutations(s)\n",
    "    \n",
    "    \n",
    "if __name__ == \"__main__\":\n",
    "    val = '012'\n",
    "    print(perm(val))"
   ]
  },
  {
   "cell_type": "code",
   "execution_count": null,
   "metadata": {},
   "outputs": [],
   "source": [
    "\n",
    "\n"
   ]
  }
 ],
 "metadata": {
  "kernelspec": {
   "display_name": "Python 3",
   "language": "python",
   "name": "python3"
  },
  "language_info": {
   "codemirror_mode": {
    "name": "ipython",
    "version": 3
   },
   "file_extension": ".py",
   "mimetype": "text/x-python",
   "name": "python",
   "nbconvert_exporter": "python",
   "pygments_lexer": "ipython3",
   "version": "3.7.6"
  }
 },
 "nbformat": 4,
 "nbformat_minor": 4
}
