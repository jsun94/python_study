{
 "cells": [
  {
   "cell_type": "markdown",
   "metadata": {},
   "source": [
    "## 별 문제 1 "
   ]
  },
  {
   "cell_type": "code",
   "execution_count": 4,
   "metadata": {},
   "outputs": [
    {
     "name": "stdout",
     "output_type": "stream",
     "text": [
      "* \n",
      "* * \n",
      "* * * \n",
      "* * * * \n",
      "* * * * * \n"
     ]
    }
   ],
   "source": [
    "i = 0\n",
    "while True:\n",
    "    i += 1\n",
    "    if i >5 : \n",
    "        break\n",
    "    print(\"* \"*i)"
   ]
  },
  {
   "cell_type": "markdown",
   "metadata": {},
   "source": [
    "## 별 문제 2 "
   ]
  },
  {
   "cell_type": "code",
   "execution_count": 5,
   "metadata": {},
   "outputs": [
    {
     "name": "stdout",
     "output_type": "stream",
     "text": [
      "  *  \n",
      " *** \n",
      "*****\n"
     ]
    }
   ],
   "source": [
    "i = \"{0:^5}\".format('*')\n",
    "a = 1\n",
    "while True:\n",
    "    if a>5:\n",
    "        break\n",
    "    print(\"{0:^5}\".format('*'*a))\n",
    "    a = a+2"
   ]
  },
  {
   "cell_type": "markdown",
   "metadata": {},
   "source": [
    "## 별 문제 3 "
   ]
  },
  {
   "cell_type": "code",
   "execution_count": 30,
   "metadata": {},
   "outputs": [
    {
     "name": "stdout",
     "output_type": "stream",
     "text": [
      "                                                             *                                                             \n",
      "                                                            ***                                                            \n",
      "                                                           *****                                                           \n",
      "                                                          *******                                                          \n",
      "                                                         *********                                                         \n",
      "                                                        ***********                                                        \n",
      "                                                       *************                                                       \n",
      "                                                      ***************                                                      \n",
      "                                                     *****************                                                     \n",
      "                                                    *******************                                                    \n",
      "                                                   *********************                                                   \n",
      "                                                  ***********************                                                  \n",
      "                                                 *************************                                                 \n",
      "                                                ***************************                                                \n",
      "                                               *****************************                                               \n",
      "                                              *******************************                                              \n",
      "                                             *********************************                                             \n",
      "                                            ***********************************                                            \n",
      "                                           *************************************                                           \n",
      "                                          ***************************************                                          \n",
      "                                         *****************************************                                         \n",
      "                                        *******************************************                                        \n",
      "                                       *********************************************                                       \n",
      "                                      ***********************************************                                      \n",
      "                                     *************************************************                                     \n",
      "                                    ***************************************************                                    \n",
      "                                   *****************************************************                                   \n",
      "                                  *******************************************************                                  \n",
      "                                 *********************************************************                                 \n",
      "                                ***********************************************************                                \n",
      "                               *************************************************************                               \n",
      "                              ***************************************************************                              \n",
      "                             *****************************************************************                             \n",
      "                            *******************************************************************                            \n",
      "                           *********************************************************************                           \n",
      "                          ***********************************************************************                          \n",
      "                         *************************************************************************                         \n",
      "                        ***************************************************************************                        \n",
      "                       *****************************************************************************                       \n",
      "                      *******************************************************************************                      \n",
      "                     *********************************************************************************                     \n",
      "                    ***********************************************************************************                    \n",
      "                   *************************************************************************************                   \n",
      "                  ***************************************************************************************                  \n",
      "                 *****************************************************************************************                 \n",
      "                *******************************************************************************************                \n",
      "               *********************************************************************************************               \n",
      "              ***********************************************************************************************              \n",
      "             *************************************************************************************************             \n",
      "            ***************************************************************************************************            \n",
      "           *****************************************************************************************************           \n",
      "          *******************************************************************************************************          \n",
      "         *********************************************************************************************************         \n",
      "        ***********************************************************************************************************        \n",
      "       *************************************************************************************************************       \n",
      "      ***************************************************************************************************************      \n",
      "     *****************************************************************************************************************     \n",
      "    *******************************************************************************************************************    \n",
      "   *********************************************************************************************************************   \n",
      "  ***********************************************************************************************************************  \n",
      " ************************************************************************************************************************* \n",
      "***************************************************************************************************************************\n",
      " ************************************************************************************************************************* \n",
      "  ***********************************************************************************************************************  \n",
      "   *********************************************************************************************************************   \n",
      "    *******************************************************************************************************************    \n",
      "     *****************************************************************************************************************     \n",
      "      ***************************************************************************************************************      \n",
      "       *************************************************************************************************************       \n",
      "        ***********************************************************************************************************        \n",
      "         *********************************************************************************************************         \n",
      "          *******************************************************************************************************          \n",
      "           *****************************************************************************************************           \n",
      "            ***************************************************************************************************            \n",
      "             *************************************************************************************************             \n",
      "              ***********************************************************************************************              \n",
      "               *********************************************************************************************               \n",
      "                *******************************************************************************************                \n",
      "                 *****************************************************************************************                 \n",
      "                  ***************************************************************************************                  \n",
      "                   *************************************************************************************                   \n",
      "                    ***********************************************************************************                    \n",
      "                     *********************************************************************************                     \n",
      "                      *******************************************************************************                      \n",
      "                       *****************************************************************************                       \n",
      "                        ***************************************************************************                        \n",
      "                         *************************************************************************                         \n",
      "                          ***********************************************************************                          \n",
      "                           *********************************************************************                           \n",
      "                            *******************************************************************                            \n",
      "                             *****************************************************************                             \n",
      "                              ***************************************************************                              \n",
      "                               *************************************************************                               \n",
      "                                ***********************************************************                                \n",
      "                                 *********************************************************                                 \n",
      "                                  *******************************************************                                  \n",
      "                                   *****************************************************                                   \n",
      "                                    ***************************************************                                    \n",
      "                                     *************************************************                                     \n",
      "                                      ***********************************************                                      \n",
      "                                       *********************************************                                       \n",
      "                                        *******************************************                                        \n",
      "                                         *****************************************                                         \n",
      "                                          ***************************************                                          \n",
      "                                           *************************************                                           \n",
      "                                            ***********************************                                            \n",
      "                                             *********************************                                             \n",
      "                                              *******************************                                              \n",
      "                                               *****************************                                               \n",
      "                                                ***************************                                                \n",
      "                                                 *************************                                                 \n",
      "                                                  ***********************                                                  \n",
      "                                                   *********************                                                   \n",
      "                                                    *******************                                                    \n",
      "                                                     *****************                                                     \n",
      "                                                      ***************                                                      \n",
      "                                                       *************                                                       \n",
      "                                                        ***********                                                        \n",
      "                                                         *********                                                         \n",
      "                                                          *******                                                          \n",
      "                                                           *****                                                           \n",
      "                                                            ***                                                            \n",
      "                                                             *                                                             \n"
     ]
    }
   ],
   "source": [
    "a = 1\n",
    "b = 0\n",
    "max = 5\n",
    "while True:\n",
    "    print(\"{0:^5}\".format('*'*a))\n",
    "    a = a+2\n",
    "    if a >max:\n",
    "        b = a-2\n",
    "        while True:\n",
    "            b = b-2\n",
    "            print(\"{0:^5}\".format('*'*b))\n",
    "            if b ==1 :\n",
    "                break\n",
    "    if b == 1:\n",
    "        break"
   ]
  },
  {
   "cell_type": "markdown",
   "metadata": {},
   "source": [
    "## Q1 "
   ]
  },
  {
   "cell_type": "code",
   "execution_count": 1,
   "metadata": {},
   "outputs": [
    {
     "data": {
      "text/plain": [
       "70.0"
      ]
     },
     "execution_count": 1,
     "metadata": {},
     "output_type": "execute_result"
    }
   ],
   "source": [
    "(80 + 75 + 55) / 3"
   ]
  },
  {
   "cell_type": "markdown",
   "metadata": {},
   "source": [
    "##  Q2"
   ]
  },
  {
   "cell_type": "code",
   "execution_count": 2,
   "metadata": {},
   "outputs": [
    {
     "name": "stdout",
     "output_type": "stream",
     "text": [
      "홀수입니다.\n"
     ]
    }
   ],
   "source": [
    "if 13 % 2 ==1 :\n",
    "    print(\"홀수입니다.\")\n",
    "else:\n",
    "    print(\"짝수입니다.\")"
   ]
  },
  {
   "cell_type": "markdown",
   "metadata": {},
   "source": [
    "## Q3 "
   ]
  },
  {
   "cell_type": "code",
   "execution_count": 9,
   "metadata": {},
   "outputs": [
    {
     "name": "stdout",
     "output_type": "stream",
     "text": [
      "881122\n",
      "1068234\n"
     ]
    }
   ],
   "source": [
    "pin = \"881122-1068234\"\n",
    "yyyymmdd = pin[:6]\n",
    "num = pin[7:]\n",
    "print(yyyymmdd)\n",
    "print(num)"
   ]
  },
  {
   "cell_type": "markdown",
   "metadata": {},
   "source": [
    "## Q4 "
   ]
  },
  {
   "cell_type": "code",
   "execution_count": 29,
   "metadata": {},
   "outputs": [
    {
     "name": "stdout",
     "output_type": "stream",
     "text": [
      "1\n"
     ]
    }
   ],
   "source": [
    "pin = \"881120-1068234\"\n",
    "print(pin[7])"
   ]
  },
  {
   "cell_type": "markdown",
   "metadata": {},
   "source": [
    "## Q5 "
   ]
  },
  {
   "cell_type": "code",
   "execution_count": 13,
   "metadata": {},
   "outputs": [
    {
     "name": "stdout",
     "output_type": "stream",
     "text": [
      "a#b#c#d\n"
     ]
    }
   ],
   "source": [
    "a = \"a:b:c:d\"\n",
    "b = a.replace(':',\"#\")\n",
    "print(b)"
   ]
  },
  {
   "cell_type": "markdown",
   "metadata": {},
   "source": [
    "## Q6 "
   ]
  },
  {
   "cell_type": "code",
   "execution_count": 14,
   "metadata": {},
   "outputs": [
    {
     "name": "stdout",
     "output_type": "stream",
     "text": [
      "[5, 4, 3, 2, 1]\n"
     ]
    }
   ],
   "source": [
    "a = [1,3,5,4,2]\n",
    "a.sort()\n",
    "a.reverse()\n",
    "print(a)"
   ]
  },
  {
   "cell_type": "markdown",
   "metadata": {},
   "source": [
    "## Q7 "
   ]
  },
  {
   "cell_type": "code",
   "execution_count": 3,
   "metadata": {},
   "outputs": [
    {
     "name": "stdout",
     "output_type": "stream",
     "text": [
      "Life is too short\n",
      "Life is too short\n"
     ]
    }
   ],
   "source": [
    "a = ['Life', 'is', 'too', 'short']\n",
    "result = \" \".join(a)\n",
    "result2 = a[0] + \" \" +a[1] + \" \" +a[2] + \" \" +a[3]\n",
    "print(result)\n",
    "print(result2)"
   ]
  },
  {
   "cell_type": "markdown",
   "metadata": {},
   "source": [
    "## Q8 "
   ]
  },
  {
   "cell_type": "code",
   "execution_count": 6,
   "metadata": {},
   "outputs": [
    {
     "name": "stdout",
     "output_type": "stream",
     "text": [
      "(1, 2, 3, 4)\n",
      "None\n"
     ]
    }
   ],
   "source": [
    "a = (1,2,3)\n",
    "a = a + (4,)\n",
    "print(a)\n",
    "b = [2,3,4]\n",
    "b = b.append(5) #append를 하고 초기화를 하면 None\n",
    "print(b)"
   ]
  },
  {
   "cell_type": "markdown",
   "metadata": {},
   "source": [
    "## Q9 "
   ]
  },
  {
   "cell_type": "code",
   "execution_count": 21,
   "metadata": {},
   "outputs": [
    {
     "data": {
      "text/plain": [
       "{}"
      ]
     },
     "execution_count": 21,
     "metadata": {},
     "output_type": "execute_result"
    }
   ],
   "source": [
    "a = dict()\n",
    "a"
   ]
  },
  {
   "cell_type": "code",
   "execution_count": 24,
   "metadata": {},
   "outputs": [
    {
     "ename": "TypeError",
     "evalue": "unhashable type: 'list'",
     "output_type": "error",
     "traceback": [
      "\u001b[1;31m---------------------------------------------------------------------------\u001b[0m",
      "\u001b[1;31mTypeError\u001b[0m                                 Traceback (most recent call last)",
      "\u001b[1;32m<ipython-input-24-3976fbf303e6>\u001b[0m in \u001b[0;36m<module>\u001b[1;34m\u001b[0m\n\u001b[1;32m----> 1\u001b[1;33m \u001b[0ma\u001b[0m\u001b[1;33m[\u001b[0m\u001b[1;33m[\u001b[0m\u001b[1;36m1\u001b[0m\u001b[1;33m]\u001b[0m\u001b[1;33m]\u001b[0m \u001b[1;33m=\u001b[0m \u001b[1;34m'python'\u001b[0m\u001b[1;33m\u001b[0m\u001b[1;33m\u001b[0m\u001b[0m\n\u001b[0m",
      "\u001b[1;31mTypeError\u001b[0m: unhashable type: 'list'"
     ]
    }
   ],
   "source": [
    "a[[1]] = 'python'\n",
    "# 키값이 리스트가 될 수 없기 때문이다. 리스트는 변할 수 있는 값이기 때문"
   ]
  },
  {
   "cell_type": "markdown",
   "metadata": {},
   "source": [
    "## Q10 "
   ]
  },
  {
   "cell_type": "code",
   "execution_count": 26,
   "metadata": {},
   "outputs": [
    {
     "name": "stdout",
     "output_type": "stream",
     "text": [
      "{'A': 90, 'C': 70}\n",
      "80\n"
     ]
    }
   ],
   "source": [
    "a = {'A' : 90, 'B' : 80, 'C' :70}\n",
    "result = a.pop('B')\n",
    "print(a)\n",
    "print(result)"
   ]
  },
  {
   "cell_type": "markdown",
   "metadata": {},
   "source": [
    "## Q11 "
   ]
  },
  {
   "cell_type": "code",
   "execution_count": 27,
   "metadata": {
    "collapsed": true
   },
   "outputs": [
    {
     "name": "stdout",
     "output_type": "stream",
     "text": [
      "[1, 2, 3, 4, 5]\n"
     ]
    }
   ],
   "source": [
    "a = [1,1,1,2,2,3,3,3,4,4,5]\n",
    "aSet = set(a)\n",
    "b = list(aSet)\n",
    "print(b)"
   ]
  },
  {
   "cell_type": "markdown",
   "metadata": {},
   "source": [
    "## Q12 "
   ]
  },
  {
   "cell_type": "code",
   "execution_count": 8,
   "metadata": {},
   "outputs": [
    {
     "name": "stdout",
     "output_type": "stream",
     "text": [
      "[1, 4, 3]\n",
      "[1, 4, 3]\n",
      "[1, 2, 3]\n"
     ]
    }
   ],
   "source": [
    "from copy import copy\n",
    "a = b = [1,2,3]\n",
    "a[1] =4\n",
    "print(b)\n",
    "#[1,4,3]의 결과가 도출되고 a와 b는 동일한 객체를 가르키고 있기 때문이다. ->shallow copy\n",
    "#deep copy - 슬라이싱, from copy import copy\n",
    "c = [1,2,3]\n",
    "d = copy(c)\n",
    "c[1] = 4\n",
    "print(c)\n",
    "print(d)"
   ]
  },
  {
   "cell_type": "markdown",
   "metadata": {},
   "source": [
    "## 03 Q3 "
   ]
  },
  {
   "cell_type": "code",
   "execution_count": 10,
   "metadata": {},
   "outputs": [
    {
     "name": "stdout",
     "output_type": "stream",
     "text": [
      "  *  \n",
      " *** \n",
      "*****\n"
     ]
    }
   ],
   "source": [
    "n = 3\n",
    "for i in range(n) :\n",
    "    print(' '*(n-i-1), end = '')\n",
    "    print('*'*(2*i+1), end='')\n",
    "    print(' '*(n-i-1), end = '')\n",
    "    print(\"\")"
   ]
  },
  {
   "cell_type": "code",
   "execution_count": 16,
   "metadata": {},
   "outputs": [
    {
     "name": "stdout",
     "output_type": "stream",
     "text": [
      "      *      \n",
      "     ***     \n",
      "    *****    \n",
      "   *******   \n",
      "    *****    \n",
      "     ***     \n",
      "      *      \n"
     ]
    }
   ],
   "source": [
    "n = 7\n",
    "inc = 0\n",
    "flag = 1\n",
    "for i in range(n) :\n",
    "    print(' '*(n-inc-1), end = '')\n",
    "    print('*'*(2*inc+1), end='')\n",
    "    print(' '*(n-inc-1), end = '')\n",
    "    print(\"\")\n",
    "    if (i == n//2):\n",
    "        flag = -flag\n",
    "    inc = inc + flag\n",
    "       \n",
    "    "
   ]
  },
  {
   "cell_type": "code",
   "execution_count": 33,
   "metadata": {},
   "outputs": [
    {
     "name": "stdout",
     "output_type": "stream",
     "text": [
      "*   *\n",
      "** **\n",
      "*****\n",
      "** **\n",
      "*   *\n"
     ]
    }
   ],
   "source": [
    "n = 5\n",
    "inc = 0\n",
    "flag = 1\n",
    "for i in range(n) :\n",
    "    print('*'*(1*inc+1), end='')\n",
    "    if((n-(inc+1)*2)>0):\n",
    "        print(' '*(n-(inc+1)*2), end = '')\n",
    "    if (i == n//2):\n",
    "        print('*'*inc)\n",
    "    else:\n",
    "        print('*'*(inc+1))\n",
    "    if (i == n//2):\n",
    "\n",
    "        flag = - flag\n",
    "    inc = inc + flag"
   ]
  },
  {
   "cell_type": "code",
   "execution_count": 63,
   "metadata": {},
   "outputs": [
    {
     "data": {
      "text/plain": [
       "[[1, 2, 3, 4, 5],\n",
       " [6, 7, 8, 9, 0],\n",
       " [10, 11, 12, 0, 0],\n",
       " [13, 14, 0, 0, 0],\n",
       " [15, 0, 0, 0, 0]]"
      ]
     },
     "execution_count": 63,
     "metadata": {},
     "output_type": "execute_result"
    }
   ],
   "source": [
    "num = 1\n",
    "n =5\n",
    "a = [[0 for col in range(n)] for row in range(n)]\n",
    "\n",
    "for i in range(n):\n",
    "    if j == n-1:\n",
    "        for i in range(n):\n",
    "            a[i][n-1]\n",
    "    for j in range(n):\n",
    "        a[i][j] = num\n",
    "        num = num+1\n",
    "        if j == n-1:\n",
    "            n = n-1\n",
    "            \n",
    "            \n",
    "a"
   ]
  },
  {
   "cell_type": "code",
   "execution_count": 69,
   "metadata": {},
   "outputs": [
    {
     "data": {
      "text/plain": [
       "[[35, 33, 27, 18, 6],\n",
       " [31, 32, 28, 19, 7],\n",
       " [24, 25, 26, 20, 8],\n",
       " [14, 15, 16, 17, 9],\n",
       " [0, 0, 0, 0, 0]]"
      ]
     },
     "execution_count": 69,
     "metadata": {},
     "output_type": "execute_result"
    }
   ],
   "source": [
    "num = 1\n",
    "n =5\n",
    "a = [[0 for col in range(n)] for row in range(n)]\n",
    "\n",
    "for i in range(n):\n",
    "    if n<5:\n",
    "        for i in range(n):\n",
    "            a[i][j] = num\n",
    "            num = num+1\n",
    "        for j in range(n):\n",
    "            a[i][j] = num\n",
    "            num = num+1\n",
    "    for j in range(n):\n",
    "        a[i][j] = num\n",
    "        num = num+1\n",
    "    n = n-1\n",
    "\n",
    "            \n",
    "            \n",
    "a"
   ]
  },
  {
   "cell_type": "code",
   "execution_count": 88,
   "metadata": {},
   "outputs": [
    {
     "data": {
      "text/plain": [
       "[[1, 2, 3, 4, 5],\n",
       " [7, 8, 9, 10, 6],\n",
       " [12, 13, 14, 11, 0],\n",
       " [16, 17, 15, 0, 0],\n",
       " [19, 18, 0, 0, 0]]"
      ]
     },
     "execution_count": 88,
     "metadata": {},
     "output_type": "execute_result"
    }
   ],
   "source": [
    "num = 1\n",
    "n =5\n",
    "a = [[0 for col in range(n)] for row in range(n)]\n",
    "\n",
    "for i in range(n):\n",
    "    if n <5:\n",
    "        for \n",
    "        a[i][j] = num\n",
    "        num = num+1\n",
    "    for j in range(n):\n",
    "        a[i][j] = num\n",
    "        num = num+1\n",
    "    n = n-1\n",
    "    if n %2 ==0:\n",
    "        continue\n",
    "            \n",
    "a"
   ]
  },
  {
   "cell_type": "markdown",
   "metadata": {},
   "source": [
    "##  숫자 소용돌이"
   ]
  },
  {
   "cell_type": "code",
   "execution_count": 3,
   "metadata": {
    "collapsed": true
   },
   "outputs": [
    {
     "data": {
      "text/plain": [
       "[[0, 0, 0, 0, 0],\n",
       " [0, 0, 0, 0, 0],\n",
       " [0, 0, 0, 0, 0],\n",
       " [0, 0, 0, 0, 0],\n",
       " [0, 0, 0, 0, 0]]"
      ]
     },
     "execution_count": 3,
     "metadata": {},
     "output_type": "execute_result"
    }
   ],
   "source": [
    "n = 5\n",
    "a = [[0 for i in range(n)]for j in range(n)]\n",
    "a"
   ]
  },
  {
   "cell_type": "code",
   "execution_count": 19,
   "metadata": {},
   "outputs": [
    {
     "name": "stdout",
     "output_type": "stream",
     "text": [
      "   1    2    3    4    5 \n",
      "  16   17   18   19    6 \n",
      "  15   24   25   20    7 \n",
      "  14   23   22   21    8 \n",
      "  13   12   11   10    9 \n"
     ]
    }
   ],
   "source": [
    "def display(a):\n",
    "    for i in range(n):\n",
    "        for j in range(n):\n",
    "            print(\"%4d\" %a[i][j], end = \" \")\n",
    "        print()\n",
    "\n",
    "n = 5\n",
    "a = [[0]*n for j in range(n)]\n",
    "row = 0 #행\n",
    "col = -1 #열 \n",
    "count = 1\n",
    "num = n\n",
    "\n",
    "while True:\n",
    "    \n",
    "    for i in range(num):\n",
    "        col = col +1\n",
    "        a[row][col] = count\n",
    "        count = count +1\n",
    "    num = num-1\n",
    "    if num == 0:\n",
    "        break\n",
    "\n",
    "    for i in range(num):\n",
    "        row = row +1\n",
    "        a[row][col] = count\n",
    "        count = count +1\n",
    "    \n",
    "    for i in range(num):\n",
    "        col = col -1\n",
    "        a[row][col] = count\n",
    "        count = count +1\n",
    "    num = num -1\n",
    "    if num == 0:\n",
    "        break\n",
    "\n",
    "    for i in range(num):\n",
    "        row = row -1\n",
    "        a[row][col] = count\n",
    "        count = count +1\n",
    "\n",
    "\n",
    "display(a)"
   ]
  },
  {
   "cell_type": "code",
   "execution_count": 20,
   "metadata": {},
   "outputs": [
    {
     "name": "stdout",
     "output_type": "stream",
     "text": [
      "   1    2    3    4    5 \n",
      "  16   17   18   19    6 \n",
      "  15   24   25   20    7 \n",
      "  14   23   22   21    8 \n",
      "  13   12   11   10    9 \n"
     ]
    }
   ],
   "source": [
    "def display(a):\n",
    "    for i in range(n):\n",
    "        for j in range(n):\n",
    "            print(\"%4d\" %a[i][j], end = \" \")\n",
    "        print()\n",
    "\n",
    "n = 5\n",
    "a = [[0]*n for j in range(n)]\n",
    "row = 0 #행\n",
    "col = -1 #열 \n",
    "count = 1\n",
    "num = n\n",
    "sign = 1\n",
    "\n",
    "while True:\n",
    "    \n",
    "    for i in range(num):\n",
    "        col = col + sign\n",
    "        a[row][col] = count\n",
    "        count = count +1\n",
    "    num = num-1\n",
    "    if num == 0:\n",
    "        break\n",
    "\n",
    "    for i in range(num):\n",
    "        row = row + sign\n",
    "        a[row][col] = count\n",
    "        count = count +1\n",
    "    sign = -sign\n",
    "\n",
    "\n",
    "display(a)"
   ]
  },
  {
   "cell_type": "code",
   "execution_count": 38,
   "metadata": {},
   "outputs": [
    {
     "name": "stdout",
     "output_type": "stream",
     "text": [
      "   1    2    3    4    5 \n",
      "   6    7    8    9   10 \n",
      "  11   12   13   14   15 \n",
      "  16   17   18   19   20 \n",
      "  21   22   23   24   25 \n"
     ]
    }
   ],
   "source": [
    "def display(a):\n",
    "    for i in range(n):\n",
    "        for j in range(n):\n",
    "            print(\"%4d\" %a[i][j], end = \" \")\n",
    "        print()\n",
    "        \n",
    "def init(n):\n",
    "        a = [[0]*n for j in range(n)]\n",
    "        return a\n",
    "        \n",
    "def fill(a,n):\n",
    "    count = 1\n",
    "    for i in range(n):\n",
    "        for j in range(n):\n",
    "            a[i][j] = count\n",
    "            count += 1\n",
    "n = 5\n",
    "a = init(n)\n",
    "\n",
    "fill(a,n)\n",
    "display(a)"
   ]
  },
  {
   "cell_type": "code",
   "execution_count": 53,
   "metadata": {},
   "outputs": [
    {
     "name": "stdout",
     "output_type": "stream",
     "text": [
      "   1    0    0    0    0 \n",
      "   2    6    0    0    0 \n",
      "   3    7   10    0    0 \n",
      "   4    8   11   13    0 \n",
      "   5    9   12   14   15 \n"
     ]
    }
   ],
   "source": [
    "def display(a):\n",
    "    for i in range(n):\n",
    "        for j in range(n):\n",
    "            print(\"%4d\" %a[i][j], end = \" \")\n",
    "        print()\n",
    "        \n",
    "def init(n):\n",
    "        a = [[0]*n for j in range(n)]\n",
    "        return a\n",
    "        \n",
    "def fill(a,n):\n",
    "    count = 1\n",
    "    for i in range(n):\n",
    "        for j in range(n-i):\n",
    "            a[i+j][i] = count\n",
    "            count += 1\n",
    "        \n",
    "n = 5\n",
    "a = init(n)\n",
    "\n",
    "fill(a,n)\n",
    "display(a)"
   ]
  },
  {
   "cell_type": "code",
   "execution_count": 55,
   "metadata": {},
   "outputs": [
    {
     "name": "stdout",
     "output_type": "stream",
     "text": [
      "   5    4    3    2    1 \n",
      "   9    8    7    6    0 \n",
      "  12   11   10    0    0 \n",
      "  14   13    0    0    0 \n",
      "  15    0    0    0    0 \n"
     ]
    }
   ],
   "source": [
    "def display(a):\n",
    "    for i in range(n):\n",
    "        for j in range(n):\n",
    "            print(\"%4d\" %a[i][j], end = \" \")\n",
    "        print()\n",
    "        \n",
    "def init(n):\n",
    "        a = [[0]*n for j in range(n)]\n",
    "        return a\n",
    "        \n",
    "def fill(a,n):\n",
    "    count = 1\n",
    "    for i in range(n):\n",
    "        for j in range(n-i):\n",
    "            a[i][n-i-1-j] = count\n",
    "            count += 1\n",
    "        \n",
    "n = 5\n",
    "a = init(n)\n",
    "\n",
    "fill(a,n)\n",
    "display(a)"
   ]
  },
  {
   "cell_type": "code",
   "execution_count": 57,
   "metadata": {},
   "outputs": [
    {
     "name": "stdout",
     "output_type": "stream",
     "text": [
      "   1    3    6   10   15 \n",
      "   2    5    9   14    0 \n",
      "   4    8   13    0    0 \n",
      "   7   12    0    0    0 \n",
      "  11    0    0    0    0 \n"
     ]
    }
   ],
   "source": [
    "def display(a):\n",
    "    for i in range(n):\n",
    "        for j in range(n):\n",
    "            print(\"%4d\" %a[i][j], end = \" \")\n",
    "        print()\n",
    "        \n",
    "def init(n):\n",
    "        a = [[0]*n for j in range(n)]\n",
    "        return a\n",
    "        \n",
    "def fill(a,n):\n",
    "    count = 1\n",
    "    for i in range(n):\n",
    "        for j in range(i+1):\n",
    "            a[i-j][j] = count\n",
    "            count += 1\n",
    "        \n",
    "n = 5\n",
    "a = init(n)\n",
    "\n",
    "fill(a,n)\n",
    "display(a)"
   ]
  },
  {
   "cell_type": "code",
   "execution_count": 59,
   "metadata": {},
   "outputs": [
    {
     "name": "stdout",
     "output_type": "stream",
     "text": [
      "   1    3    6   10   15 \n",
      "   2    5    9   14   19 \n",
      "   4    8   13   18   22 \n",
      "   7   12   17   21   24 \n",
      "  11   16   20   23   25 \n"
     ]
    }
   ],
   "source": [
    "def display(a):\n",
    "    for i in range(n):\n",
    "        for j in range(n):\n",
    "            print(\"%4d\" %a[i][j], end = \" \")\n",
    "        print()\n",
    "        \n",
    "def init(n):\n",
    "        a = [[0]*n for j in range(n)]\n",
    "        return a\n",
    "        \n",
    "def fill(a,n):\n",
    "    count = 1\n",
    "    for k in range(2*n-1):\n",
    "        for i in range(n):\n",
    "            for j in range(n):\n",
    "                if (i+j) ==k:\n",
    "                    a[j][i] = count\n",
    "                    count +=1\n",
    "        \n",
    "n = 5\n",
    "a = init(n)\n",
    "\n",
    "fill(a,n)\n",
    "display(a)"
   ]
  },
  {
   "cell_type": "code",
   "execution_count": 77,
   "metadata": {},
   "outputs": [
    {
     "name": "stdout",
     "output_type": "stream",
     "text": [
      "   1    0    0    0   13 \n",
      "   2    6    0   10   14 \n",
      "   3    7    9   11   15 \n",
      "   4    8    0   12   16 \n",
      "   5    0    0    0   17 \n"
     ]
    }
   ],
   "source": [
    "def display(a):\n",
    "    for i in range(n):\n",
    "        for j in range(n):\n",
    "            print(\"%4d\" %a[i][j], end = \" \")\n",
    "        print()\n",
    "        \n",
    "def init(n):\n",
    "        a = [[0]*n for j in range(n)]\n",
    "        return a\n",
    "        \n",
    "def fill(a,n):\n",
    "    count = 1\n",
    "    inc = 0\n",
    "    flag = 1\n",
    "    for i in range(n):\n",
    "        for j in range(n-2*inc):\n",
    "            a[j+inc][i] = count\n",
    "            count +=1\n",
    "        if n //2 == i:\n",
    "            flag = -flag\n",
    "        inc = inc +flag\n",
    "\n",
    "\n",
    "        \n",
    "n = 5\n",
    "a = init(n)\n",
    "\n",
    "fill(a,n)\n",
    "display(a)"
   ]
  }
 ],
 "metadata": {
  "kernelspec": {
   "display_name": "Python 3",
   "language": "python",
   "name": "python3"
  },
  "language_info": {
   "codemirror_mode": {
    "name": "ipython",
    "version": 3
   },
   "file_extension": ".py",
   "mimetype": "text/x-python",
   "name": "python",
   "nbconvert_exporter": "python",
   "pygments_lexer": "ipython3",
   "version": "3.7.6"
  }
 },
 "nbformat": 4,
 "nbformat_minor": 4
}
