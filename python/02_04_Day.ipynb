{
 "cells": [
  {
   "cell_type": "markdown",
   "metadata": {},
   "source": [
    "## 세마포어 Semaphore"
   ]
  },
  {
   "cell_type": "markdown",
   "metadata": {},
   "source": [
    "- 가용한 자원의 수를 가지고 있는 객체\n",
    "- 세마포어에 있는 자원 = 공유 변수\n",
    "- 세마포어의 공유 변수가 없다면 다음 프로세스는 wait 또는 sleep\n",
    "- p 연산 = 공유 변수를 감소하는 연산, v 연산 = 공유 변수를 증가시키는 연산"
   ]
  },
  {
   "cell_type": "code",
   "execution_count": 5,
   "metadata": {},
   "outputs": [
    {
     "name": "stdout",
     "output_type": "stream",
     "text": [
      "획득 : 스레드0 | 스레드 풀 : ['스레드0']\n",
      "획득 : 스레드1 | 스레드 풀 : ['스레드0', '스레드1']\n",
      "획득 : 스레드2 | 스레드 풀 : ['스레드0', '스레드1', '스레드2']\n",
      "반환 : 스레드0 | 스레드 풀 : ['스레드1', '스레드2']\n",
      "획득 : 스레드3 | 스레드 풀 : ['스레드1', '스레드2', '스레드3']\n",
      "반환 : 스레드1 | 스레드 풀 : ['스레드2', '스레드3']\n",
      "획득 : 스레드4 | 스레드 풀 : ['스레드2', '스레드3', '스레드4']\n",
      "반환 : 스레드2 | 스레드 풀 : ['스레드3', '스레드4']\n",
      "획득 : 스레드5 | 스레드 풀 : ['스레드3', '스레드4', '스레드5']\n",
      "반환 : 스레드3 | 스레드 풀 : ['스레드4', '스레드5']\n",
      "획득 : 스레드6 | 스레드 풀 : ['스레드4', '스레드5', '스레드6']\n",
      "반환 : 스레드4 | 스레드 풀 : ['스레드5', '스레드6']\n",
      "획득 : 스레드7 | 스레드 풀 : ['스레드5', '스레드6', '스레드7']\n",
      "반환 : 스레드5 | 스레드 풀 : ['스레드6', '스레드7']\n",
      "획득 : 스레드8 | 스레드 풀 : ['스레드6', '스레드7', '스레드8']\n",
      "반환 : 스레드6 | 스레드 풀 : ['스레드7', '스레드8']\n",
      "획득 : 스레드9 | 스레드 풀 : ['스레드7', '스레드8', '스레드9']\n",
      "반환 : 스레드7 | 스레드 풀 : ['스레드8', '스레드9']\n",
      "반환 : 스레드8 | 스레드 풀 : ['스레드9']\n",
      "반환 : 스레드9 | 스레드 풀 : []\n"
     ]
    }
   ],
   "source": [
    "import threading\n",
    "import time\n",
    "\n",
    "class ThreadPool(object):\n",
    "    def __init__(self):\n",
    "        self.active = []\n",
    "        self.lock = threading.Lock()\n",
    "        \n",
    "    def acquire(self, name):\n",
    "        with self.lock: # 맨 처음 진입한 것에 대한 lock 획득\n",
    "            self.active.append(name)\n",
    "            print(\"획득 : {0} | 스레드 풀 : {1}\".format(name, self.active))\n",
    "            \n",
    "    def release(self, name): #lock을 풀 때 지원\n",
    "        with self.lock:\n",
    "            self.active.remove(name)\n",
    "            print(\"반환 : {0} | 스레드 풀 : {1}\".format(name, self.active))\n",
    "            \n",
    "def worker(semaphore, pool):\n",
    "    with semaphore:\n",
    "        name = threading.currentThread().getName()\n",
    "        pool.acquire(name)\n",
    "        time.sleep(1)\n",
    "        pool.release(name)\n",
    "\n",
    "if __name__ == \"__main__\":\n",
    "    threads = []\n",
    "    pool = ThreadPool()\n",
    "    semaphore = threading.Semaphore(3)\n",
    "    for i in range(10):\n",
    "        t = threading.Thread(target = worker, name = \"스레드\" + str(i), args = (semaphore, pool))\n",
    "        t.start()\n",
    "        threads.append(t)\n",
    "        \n",
    "    for t in threads:\n",
    "        t.join()"
   ]
  },
  {
   "cell_type": "markdown",
   "metadata": {},
   "source": [
    "## 데드락과 스핀락 "
   ]
  },
  {
   "cell_type": "markdown",
   "metadata": {},
   "source": [
    "### 생성자, 소비자의 문제 "
   ]
  },
  {
   "cell_type": "code",
   "execution_count": 15,
   "metadata": {},
   "outputs": [
    {
     "name": "stdout",
     "output_type": "stream",
     "text": [
      "소비자 1 시작\n",
      "소비자 1 대기\n",
      "소비자 2 시작\n",
      "소비자 2 대기\n",
      "생산자 시작\n",
      "생산자 자원 생산 후 모든 소비자에게 알림\n",
      "소비자 2 자원 소비\n",
      "소비자 1 자원 소비\n"
     ]
    }
   ],
   "source": [
    "import threading\n",
    "\n",
    "def consumer(cond):\n",
    "    name = threading.currentThread().getName()\n",
    "    print(\"{0} 시작\".format(name))\n",
    "    with cond:\n",
    "        print(\"{0} 대기\".format(name))\n",
    "        cond.wait()\n",
    "        print(\"{0} 자원 소비\".format(name))\n",
    "        \n",
    "def producer(cond):\n",
    "    name = threading.currentThread().getName()\n",
    "    print(\"{0} 시작\".format(name))\n",
    "    with cond:\n",
    "        print(\"{0} 자원 생산 후 모든 소비자에게 알림\".format(name))\n",
    "        cond.notifyAll()\n",
    "        \n",
    "if __name__ == \"__main__\":\n",
    "    condition = threading.Condition()\n",
    "    consumer1 = threading.Thread(name = \"소비자 1\", target = consumer, args = (condition,))\n",
    "    consumer2 = threading.Thread(name = \"소비자 2\", target = consumer, args = (condition,))\n",
    "    producer = threading.Thread(name = \"생산자\", target = producer, args = (condition,))\n",
    "    \n",
    "    consumer1.start()\n",
    "    consumer2.start()\n",
    "    producer.start()"
   ]
  },
  {
   "cell_type": "markdown",
   "metadata": {},
   "source": [
    "## 프로파일링 "
   ]
  },
  {
   "cell_type": "code",
   "execution_count": 18,
   "metadata": {},
   "outputs": [
    {
     "name": "stdout",
     "output_type": "stream",
     "text": [
      "hello world\n",
      "hello world\n",
      "         70 function calls in 5.001 seconds\n",
      "\n",
      "   Ordered by: standard name\n",
      "\n",
      "   ncalls  tottime  percall  cumtime  percall filename:lineno(function)\n",
      "        1    0.000    0.000    5.001    5.001 <ipython-input-18-cfc61f3599cb>:10(main)\n",
      "        1    0.000    0.000    5.000    5.000 <ipython-input-18-cfc61f3599cb>:4(sleep)\n",
      "        2    0.000    0.000    0.001    0.000 <ipython-input-18-cfc61f3599cb>:7(hello_world)\n",
      "        1    0.000    0.000    5.001    5.001 <string>:1(<module>)\n",
      "        5    0.000    0.000    0.001    0.000 iostream.py:197(schedule)\n",
      "        4    0.000    0.000    0.000    0.000 iostream.py:309(_is_master_process)\n",
      "        4    0.000    0.000    0.000    0.000 iostream.py:322(_schedule_flush)\n",
      "        4    0.000    0.000    0.001    0.000 iostream.py:384(write)\n",
      "        5    0.000    0.000    0.000    0.000 iostream.py:93(_event_pipe)\n",
      "        5    0.001    0.000    0.001    0.000 socket.py:342(send)\n",
      "        5    0.000    0.000    0.000    0.000 threading.py:1050(_wait_for_tstate_lock)\n",
      "        5    0.000    0.000    0.000    0.000 threading.py:1092(is_alive)\n",
      "        5    0.000    0.000    0.000    0.000 threading.py:507(is_set)\n",
      "        1    0.000    0.000    5.001    5.001 {built-in method builtins.exec}\n",
      "        4    0.000    0.000    0.000    0.000 {built-in method builtins.isinstance}\n",
      "        2    0.000    0.000    0.001    0.000 {built-in method builtins.print}\n",
      "        4    0.000    0.000    0.000    0.000 {built-in method nt.getpid}\n",
      "        1    5.000    5.000    5.000    5.000 {built-in method time.sleep}\n",
      "        5    0.000    0.000    0.000    0.000 {method 'acquire' of '_thread.lock' objects}\n",
      "        5    0.000    0.000    0.000    0.000 {method 'append' of 'collections.deque' objects}\n",
      "        1    0.000    0.000    0.000    0.000 {method 'disable' of '_lsprof.Profiler' objects}\n",
      "\n",
      "\n"
     ]
    }
   ],
   "source": [
    "import cProfile\n",
    "import time\n",
    "\n",
    "def sleep():\n",
    "    time.sleep(5)\n",
    "    \n",
    "def hello_world():\n",
    "    print(\"hello world\")\n",
    "    \n",
    "def main():\n",
    "    sleep()\n",
    "    hello_world()\n",
    "    hello_world() #ncall이 2가 됌, 호출 횟수\n",
    "cProfile.run('main()')\n"
   ]
  },
  {
   "cell_type": "markdown",
   "metadata": {},
   "source": [
    "## Stack 만들기 "
   ]
  },
  {
   "cell_type": "code",
   "execution_count": 19,
   "metadata": {},
   "outputs": [
    {
     "name": "stdout",
     "output_type": "stream",
     "text": [
      "스택이 비었나요? True\n",
      "스택에 숫자 0~9를 추가합니다.\n",
      "스택 크기 : 10\n",
      "peek: 9\n",
      "pop: 9\n",
      "peek: 8\n",
      "스택이 비었나요? False\n",
      "[0, 1, 2, 3, 4, 5, 6, 7, 8]\n"
     ]
    }
   ],
   "source": [
    "class Stack(object):\n",
    "    def __init__(self):\n",
    "        self.items = []\n",
    "        \n",
    "    def isEmpty(self):\n",
    "        return not bool(self.items)\n",
    "    \n",
    "    def push(self, value):\n",
    "        self.items.append(value)\n",
    "        \n",
    "    def pop(self):\n",
    "        value = self.items.pop()\n",
    "        if value is not None:\n",
    "            return value\n",
    "        else:\n",
    "            print(\"Stack is empty\")\n",
    "            \n",
    "    def size(self):\n",
    "        return len(self.items)\n",
    "    \n",
    "    def peek(self):\n",
    "        if self.items:\n",
    "            return self.items[-1]\n",
    "        else:\n",
    "            print(\"Stack is empty\")\n",
    "            \n",
    "    def __repr__(self):\n",
    "        return repr(self.items)\n",
    "    \n",
    "if __name__ == \"__main__\":\n",
    "    stack = Stack()\n",
    "    print(\"스택이 비었나요? {0}\".format(stack.isEmpty()))\n",
    "    print(\"스택에 숫자 0~9를 추가합니다.\")\n",
    "    for i in range(10):\n",
    "        stack.push(i)\n",
    "    print(\"스택 크기 : {0}\".format(stack.size()))\n",
    "    print(\"peek: {0}\".format(stack.peek()))\n",
    "    print(\"pop: {0}\".format(stack.pop()))\n",
    "    print(\"peek: {0}\".format(stack.peek()))\n",
    "    print(\"스택이 비었나요? {0}\".format(stack.isEmpty()))\n",
    "    print(stack)"
   ]
  },
  {
   "cell_type": "code",
   "execution_count": 22,
   "metadata": {},
   "outputs": [
    {
     "name": "stdout",
     "output_type": "stream",
     "text": [
      "스택이 비었나요? True\n",
      "스택에 숫자 0~9를 추가합니다.\n",
      "스택 크기 : 10\n",
      "peek: 9\n",
      "pop: 9\n",
      "peek: 8\n",
      "스택이 비었나요? False\n",
      "8 7 6 5 4 3 2 1 0 \n"
     ]
    }
   ],
   "source": [
    "class Node(object):\n",
    "    def __init__(self, value = None, pointer = None):\n",
    "        self.value = value\n",
    "        self.pointer = pointer\n",
    "        \n",
    "class Stack(object):\n",
    "    def __init__(self):\n",
    "        self.head = None\n",
    "        self.count = 0\n",
    "    \n",
    "    def isEmpty(self):\n",
    "        return not bool(self.head)\n",
    "    \n",
    "    def push(self, item):\n",
    "        self.head = Node(item, self.head)\n",
    "        self.count += 1\n",
    "        \n",
    "    def pop(self):\n",
    "        if(self.count > 0 and self.head ):\n",
    "            node = self.head\n",
    "            self.head = node.pointer\n",
    "            self.count -= 1\n",
    "            return node.value\n",
    "        else:\n",
    "            print(\"Stack is empty\")\n",
    "            \n",
    "    def size(self):\n",
    "        return self.count\n",
    "    \n",
    "    def peek(self):\n",
    "        if self.count > 0 and self.head:\n",
    "            return self.head.value\n",
    "        else:\n",
    "            print(\"Stack is empty\")\n",
    "            \n",
    "    def _printlist(self):\n",
    "        node = self.head\n",
    "        while node:\n",
    "            print(node.value, end = ' ')\n",
    "            node = node.pointer\n",
    "        print()\n",
    "    \n",
    "    \n",
    "if __name__ == \"__main__\":\n",
    "    stack = Stack()\n",
    "    print(\"스택이 비었나요? {0}\".format(stack.isEmpty()))\n",
    "    print(\"스택에 숫자 0~9를 추가합니다.\")\n",
    "    for i in range(10):\n",
    "        stack.push(i)\n",
    "    print(\"스택 크기 : {0}\".format(stack.size()))\n",
    "    print(\"peek: {0}\".format(stack.peek()))\n",
    "    print(\"pop: {0}\".format(stack.pop()))\n",
    "    print(\"peek: {0}\".format(stack.peek()))\n",
    "    print(\"스택이 비었나요? {0}\".format(stack.isEmpty()))\n",
    "    stack._printlist()"
   ]
  },
  {
   "cell_type": "markdown",
   "metadata": {},
   "source": [
    "## Queue "
   ]
  },
  {
   "cell_type": "code",
   "execution_count": 27,
   "metadata": {},
   "outputs": [
    {
     "name": "stdout",
     "output_type": "stream",
     "text": [
      "큐가 비었나요? True\n",
      "큐에 숫자 0~9를 추가합니다.\n",
      "큐 크기 : 10\n",
      "peek: 0\n",
      "pop: 0\n",
      "peek: 1\n",
      "큐가 비었나요? False\n",
      "[9, 8, 7, 6, 5, 4, 3, 2, 1]\n"
     ]
    }
   ],
   "source": [
    "class Queue(object):\n",
    "    def __init__(self):\n",
    "        self.items = []\n",
    "        \n",
    "    def isEmpty(self):\n",
    "        return not bool(self.items)\n",
    "    \n",
    "    def enqueue(self, value):\n",
    "        self.items.insert(0,value) #insert는 첫번쨰 파라미터 앞에 삽입\n",
    "        \n",
    "    def dequeue(self):\n",
    "        value = self.items.pop()\n",
    "        if value is not None:\n",
    "            return value\n",
    "        else:\n",
    "            print(\"Queue is empty\")\n",
    "            \n",
    "    def size(self):\n",
    "        return len(self.items)\n",
    "    \n",
    "    def peek(self):\n",
    "        if self.items:\n",
    "            return self.items[-1]\n",
    "        else:\n",
    "            print(\"Queue is empty\")\n",
    "            \n",
    "    def __repr__(self):\n",
    "        return repr(self.items)\n",
    "    \n",
    "if __name__ == \"__main__\":\n",
    "    queue = Queue()\n",
    "    print(\"큐가 비었나요? {0}\".format(queue.isEmpty()))\n",
    "    print(\"큐에 숫자 0~9를 추가합니다.\")\n",
    "    for i in range(10):\n",
    "        queue.enqueue(i)\n",
    "    print(\"큐 크기 : {0}\".format(queue.size()))\n",
    "    print(\"peek: {0}\".format(queue.peek()))\n",
    "    print(\"pop: {0}\".format(queue.dequeue()))\n",
    "    print(\"peek: {0}\".format(queue.peek()))\n",
    "    print(\"큐가 비었나요? {0}\".format(stack.isEmpty()))\n",
    "    print(queue)"
   ]
  },
  {
   "cell_type": "code",
   "execution_count": 29,
   "metadata": {},
   "outputs": [
    {
     "name": "stdout",
     "output_type": "stream",
     "text": [
      "스택이 비었나요? True\n",
      "스택에 숫자 0~9를 추가합니다.\n",
      "스택 크기 : 10\n",
      "peek: 0\n",
      "pop: 0\n",
      "peek: 1\n",
      "스택이 비었나요? False\n",
      "1 2 3 4 5 6 7 8 9 \n"
     ]
    }
   ],
   "source": [
    "class Node(object):\n",
    "    def __init__(self, value = None, pointer = None):\n",
    "        self.value = value\n",
    "        self.pointer = pointer\n",
    "        \n",
    "class LinkedQueue(object):\n",
    "    def __init__(self):\n",
    "        self.head = None\n",
    "        self.tail = None\n",
    "        self.count = 0\n",
    "    \n",
    "    def isEmpty(self):\n",
    "        return not bool(self.head)\n",
    "    \n",
    "    def enqueue(self, value):\n",
    "        node = Node(value)\n",
    "        if not self.head:\n",
    "            self.head = node\n",
    "            self.tail = node\n",
    "        else:\n",
    "            if self.tail:\n",
    "                self.tail.pointer = node\n",
    "            self.tail = node\n",
    "        self.count +=1\n",
    "        \n",
    "    def dequeue(self):\n",
    "        if self.head:\n",
    "            value = self.head.value\n",
    "            self.head = self.head.pointer\n",
    "            self.count -= 1\n",
    "            return value\n",
    "        else:\n",
    "            print(\"Queue is empty.\")\n",
    "            \n",
    "    def size(self):\n",
    "        return self.count\n",
    "    \n",
    "    def peek(self):\n",
    "        if self.count > 0:\n",
    "            return self.head.value\n",
    "        else:\n",
    "            print(\"Queue is empty\")\n",
    "            \n",
    "    def _printlist(self):\n",
    "        node = self.head\n",
    "        while node:\n",
    "            print(node.value, end = ' ')\n",
    "            node = node.pointer\n",
    "        print()\n",
    "    \n",
    "    \n",
    "if __name__ == \"__main__\":\n",
    "    queue = LinkedQueue()\n",
    "    print(\"스택이 비었나요? {0}\".format(queue.isEmpty()))\n",
    "    print(\"스택에 숫자 0~9를 추가합니다.\")\n",
    "    for i in range(10):\n",
    "        queue.enqueue(i)\n",
    "    print(\"스택 크기 : {0}\".format(queue.size()))\n",
    "    print(\"peek: {0}\".format(queue.peek()))\n",
    "    print(\"pop: {0}\".format(queue.dequeue()))\n",
    "    print(\"peek: {0}\".format(queue.peek()))\n",
    "    print(\"스택이 비었나요? {0}\".format(queue.isEmpty()))\n",
    "    queue._printlist()"
   ]
  },
  {
   "cell_type": "markdown",
   "metadata": {},
   "source": [
    "## heapq 모듈 "
   ]
  },
  {
   "cell_type": "code",
   "execution_count": 31,
   "metadata": {},
   "outputs": [
    {
     "data": {
      "text/plain": [
       "[1, 4, 8, 5]"
      ]
     },
     "execution_count": 31,
     "metadata": {},
     "output_type": "execute_result"
    }
   ],
   "source": [
    "import heapq\n",
    "list1 = [4,5,8,1]\n",
    "heapq.heapify(list1)\n",
    "list1"
   ]
  },
  {
   "cell_type": "code",
   "execution_count": 32,
   "metadata": {},
   "outputs": [
    {
     "data": {
      "text/plain": [
       "[(1, 'food'), (2, 'have fun'), (3, 'work'), (4, 'study')]"
      ]
     },
     "execution_count": 32,
     "metadata": {},
     "output_type": "execute_result"
    }
   ],
   "source": [
    "h = []\n",
    "heapq.heappush(h,(1, 'food'))\n",
    "heapq.heappush(h,(2, 'have fun'))\n",
    "heapq.heappush(h,(3, 'work'))\n",
    "heapq.heappush(h,(4, 'study'))\n",
    "h"
   ]
  },
  {
   "cell_type": "markdown",
   "metadata": {},
   "source": [
    "## heap 구현 "
   ]
  },
  {
   "cell_type": "code",
   "execution_count": 44,
   "metadata": {},
   "outputs": [
    {
     "name": "stdout",
     "output_type": "stream",
     "text": [
      "[3, 2, 8, 1, 7, 5, 2]\n",
      "[3, 7, 8, 1, 2, 5, 2]\n",
      "[8, 7, 3, 1, 2, 5, 2]\n",
      "[8, 7, 5, 1, 2, 3, 2]\n",
      "[5, 7, 2, 1, 2, 3]\n",
      "[5, 7, 3, 1, 2, 2]\n",
      "8\n",
      "[3, 7, 2, 1, 2]\n",
      "5\n",
      "[7, 2, 2, 1]\n",
      "3\n",
      "[9, 7, 2, 1, 2]\n"
     ]
    }
   ],
   "source": [
    "class Heapify(object):\n",
    "    def __init__(self,data= None):\n",
    "        self.data = data or []\n",
    "        for i in range(len(data)//2, -1, -1):\n",
    "            self.__max_heapify__(i)\n",
    "            \n",
    "    def parent(self, i):\n",
    "        if i & 1:\n",
    "            return i >> 1\n",
    "        else:\n",
    "            return (i >> 1) -1\n",
    "    \n",
    "    def left_child(self,i):\n",
    "        return (i << 1) + 1 # = i*2 +1\n",
    "    \n",
    "    def right_child(self,i):\n",
    "        return (i<<1) + 2 # = i * 2  + 2\n",
    "    \n",
    "    def __max_heapify__(self,i):\n",
    "        largest = i\n",
    "        left = self.left_child(i)\n",
    "        right = self.right_child(i)\n",
    "        n = len(self.data)\n",
    "        \n",
    "        #왼쪽 자식\n",
    "        largest = (left < n and self.data[left] > self.data[i]) and left or i# -> 무조건 false\n",
    "        #오른쪽 자식\n",
    "        largest = (right < n and self.data[right] > self.data[i]) and self.data[largest] and right or largest\n",
    "        \n",
    "        if i is not largest:\n",
    "            self.data[i], self.data[largest] = self.data[largest], self.data[i]\n",
    "            print(self.data)\n",
    "            self.__max_heapify__(largest)\n",
    "        \n",
    "    def extract_max(self):\n",
    "        n = len(self.data)\n",
    "        max_element = self.data[0]\n",
    "        self.data[0] = self.data[n-1]\n",
    "        self.data = self.data[:n-1]\n",
    "        self.__max_heapify__(0)\n",
    "        return max_element\n",
    "    \n",
    "    def insert(self, item):\n",
    "        i = len(self.data)\n",
    "        self.data.append(item)\n",
    "        while( i != 0) and item > self.data[self.parent(i)]:\n",
    "            self.data[i] = self.data[self.parent(i)]\n",
    "            i = self.parent(i)\n",
    "        self.data[i] = item\n",
    "        \n",
    "        \n",
    "def test_heapify():\n",
    "    l1 = [3,2,5,1,7,8,2]\n",
    "    h = Heapify(l1)\n",
    "    print(h.extract_max())\n",
    "    print(h.extract_max())\n",
    "    print(h.extract_max())\n",
    "    h.insert(9)\n",
    "    print(h.data)\n",
    "\n",
    "if __name__ == \"__main__\":\n",
    "    test_heapify()"
   ]
  },
  {
   "cell_type": "code",
   "execution_count": null,
   "metadata": {},
   "outputs": [],
   "source": []
  }
 ],
 "metadata": {
  "kernelspec": {
   "display_name": "Python 3",
   "language": "python",
   "name": "python3"
  },
  "language_info": {
   "codemirror_mode": {
    "name": "ipython",
    "version": 3
   },
   "file_extension": ".py",
   "mimetype": "text/x-python",
   "name": "python",
   "nbconvert_exporter": "python",
   "pygments_lexer": "ipython3",
   "version": "3.7.6"
  }
 },
 "nbformat": 4,
 "nbformat_minor": 4
}
