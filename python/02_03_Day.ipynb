{
 "cells": [
  {
   "cell_type": "markdown",
   "metadata": {},
   "source": [
    "## 다형성 "
   ]
  },
  {
   "cell_type": "code",
   "execution_count": 3,
   "metadata": {},
   "outputs": [
    {
     "name": "stdout",
     "output_type": "stream",
     "text": [
      "False\n",
      "False\n",
      "2\n",
      "1755563021064 1755563021576\n"
     ]
    }
   ],
   "source": [
    "class Symbol(object):\n",
    "    def __init__(self, value):\n",
    "        self.value = value\n",
    "        \n",
    "if __name__ == \"__main__\":\n",
    "    x = Symbol(\"Py\")\n",
    "    y = Symbol(\"Py\")\n",
    "    \n",
    "    symbols = set()\n",
    "    symbols.add(x)\n",
    "    symbols.add(y)\n",
    "    \n",
    "    print(x is y)\n",
    "    print(x == y)\n",
    "    print(len(symbols))\n",
    "    print(id(x), id(y))"
   ]
  },
  {
   "cell_type": "code",
   "execution_count": 6,
   "metadata": {},
   "outputs": [
    {
     "name": "stdout",
     "output_type": "stream",
     "text": [
      "Symbol.equal\n",
      "False\n",
      "Symbol.equal\n",
      "True\n",
      "1\n",
      "1755563515976 1755563022216\n"
     ]
    }
   ],
   "source": [
    "class Symbol(object):\n",
    "    def __init__(self, value):\n",
    "        self.value = value\n",
    "    \n",
    "    def __eq__(self, other):\n",
    "        print(\"Symbol.equal\")\n",
    "        if isinstance(self, other.__class__):\n",
    "            return self.value == other.value\n",
    "        else:\n",
    "            return NotImplemented\n",
    "    \n",
    "    def __hash__(self):\n",
    "        return hash(self.value)\n",
    "    \n",
    "if __name__ == \"__main__\":\n",
    "    x = Symbol(\"Py\")\n",
    "    y = Symbol(\"Py\")\n",
    "    \n",
    "    symbols = set()\n",
    "    symbols.add(x)\n",
    "    symbols.add(y)\n",
    "    \n",
    "    print(x is y)\n",
    "    print(x == y)\n",
    "    print(len(symbols))\n",
    "    print(id(x), id(y))\n",
    "    "
   ]
  },
  {
   "cell_type": "markdown",
   "metadata": {},
   "source": [
    "## 클래스 예제 "
   ]
  },
  {
   "cell_type": "code",
   "execution_count": 20,
   "metadata": {},
   "outputs": [
    {
     "name": "stdout",
     "output_type": "stream",
     "text": [
      "Point.__init()__\n",
      "10 10\n",
      "14.142135623730951\n",
      "Point.__init()__\n",
      "True\n",
      "Point (10,10)\n",
      "Circle.__init()__\n",
      "Point.__init()__\n",
      "113.09733552923255\n"
     ]
    }
   ],
   "source": [
    "import math\n",
    "\n",
    "class Point(object):\n",
    "    def __init__(self, x=0, y= 0):\n",
    "        print(\"Point.__init()__\")\n",
    "        self.x = x\n",
    "        self.y = y\n",
    "\n",
    "    def distance_from_origin(self):\n",
    "        return math.hypot(self.x,self.y)\n",
    "        \n",
    "    def __eq__(self, other):\n",
    "        return self.x == other.x and self.y == other.y\n",
    "    \n",
    "    def __str__(self):\n",
    "        #return \"({0.x!r},{0.y!r})\".format(self)\n",
    "        return repr(self)\n",
    "    def __repr__(self):\n",
    "        return \"Point ({0.x!r},{0.y!r})\".format(self)\n",
    "    \n",
    "class Circle(Point):\n",
    "    def __init__(self, radius, x=0, y= 0):\n",
    "        print(\"Circle.__init()__\")\n",
    "        self.radius = radius\n",
    "        super().__init__(x,y)\n",
    "\n",
    "    def edge_distance_from_origin(self):\n",
    "        return abs(self.distance_from_origin() - self.radius)\n",
    "    \n",
    "    def area(self):\n",
    "        return math.pi*(self.radius**2)\n",
    "    \n",
    "    def circumference(self):\n",
    "        return 2*math.pi*self.radius\n",
    "        \n",
    "    def __eq__(self, other):\n",
    "        return self.radius == other.radius and super().__eq__(other)\n",
    "    \n",
    "    def __str__(self):\n",
    "        #return \"({0.x!r},{0.y!r})\".format(self)\n",
    "        return repr(self)\n",
    "    def __repr__(self):\n",
    "        return \"Circle ({0.radius!r},{0.x!r},{0.y!r})\".format(self)\n",
    "    \n",
    "if __name__ == \"__main__\":\n",
    "    p1 = Point(10,10)\n",
    "    print(p1.x, p1.y)\n",
    "    print(p1.distance_from_origin())\n",
    "    \n",
    "    p2 = Point(10,10)\n",
    "    print(p1 == p2)\n",
    "    print(p1)\n",
    "    \n",
    "    c1 = Circle(6,12,12)\n",
    "    print(c1.area())"
   ]
  },
  {
   "cell_type": "markdown",
   "metadata": {},
   "source": [
    "##  디자인 패턴"
   ]
  },
  {
   "cell_type": "markdown",
   "metadata": {},
   "source": [
    "### 데커레이터 패턴 "
   ]
  },
  {
   "cell_type": "code",
   "execution_count": 21,
   "metadata": {},
   "outputs": [
    {
     "ename": "NameError",
     "evalue": "name 'my_decorator' is not defined",
     "output_type": "error",
     "traceback": [
      "\u001b[1;31m---------------------------------------------------------------------------\u001b[0m",
      "\u001b[1;31mNameError\u001b[0m                                 Traceback (most recent call last)",
      "\u001b[1;32m<ipython-input-21-95ada099f1b6>\u001b[0m in \u001b[0;36m<module>\u001b[1;34m\u001b[0m\n\u001b[1;32m----> 1\u001b[1;33m \u001b[1;32mclass\u001b[0m \u001b[0mC\u001b[0m\u001b[1;33m(\u001b[0m\u001b[0mobject\u001b[0m\u001b[1;33m)\u001b[0m\u001b[1;33m:\u001b[0m\u001b[1;33m\u001b[0m\u001b[1;33m\u001b[0m\u001b[0m\n\u001b[0m\u001b[0;32m      2\u001b[0m     \u001b[1;33m@\u001b[0m\u001b[0mmy_decorator\u001b[0m \u001b[1;31m#데코레이터 문법\u001b[0m\u001b[1;33m\u001b[0m\u001b[1;33m\u001b[0m\u001b[0m\n\u001b[0;32m      3\u001b[0m     \u001b[1;32mdef\u001b[0m \u001b[0mmethod\u001b[0m\u001b[1;33m(\u001b[0m\u001b[0mself\u001b[0m\u001b[1;33m)\u001b[0m\u001b[1;33m:\u001b[0m\u001b[1;33m\u001b[0m\u001b[1;33m\u001b[0m\u001b[0m\n\u001b[0;32m      4\u001b[0m         \u001b[1;32mpass\u001b[0m\u001b[1;33m\u001b[0m\u001b[1;33m\u001b[0m\u001b[0m\n\u001b[0;32m      5\u001b[0m     \u001b[0mmethod\u001b[0m \u001b[1;33m=\u001b[0m \u001b[0mmy_decorator\u001b[0m\u001b[1;33m(\u001b[0m\u001b[0mmethod\u001b[0m\u001b[1;33m)\u001b[0m\u001b[1;33m\u001b[0m\u001b[1;33m\u001b[0m\u001b[0m\n",
      "\u001b[1;32m<ipython-input-21-95ada099f1b6>\u001b[0m in \u001b[0;36mC\u001b[1;34m()\u001b[0m\n\u001b[0;32m      1\u001b[0m \u001b[1;32mclass\u001b[0m \u001b[0mC\u001b[0m\u001b[1;33m(\u001b[0m\u001b[0mobject\u001b[0m\u001b[1;33m)\u001b[0m\u001b[1;33m:\u001b[0m\u001b[1;33m\u001b[0m\u001b[1;33m\u001b[0m\u001b[0m\n\u001b[1;32m----> 2\u001b[1;33m     \u001b[1;33m@\u001b[0m\u001b[0mmy_decorator\u001b[0m \u001b[1;31m#데코레이터 문법\u001b[0m\u001b[1;33m\u001b[0m\u001b[1;33m\u001b[0m\u001b[0m\n\u001b[0m\u001b[0;32m      3\u001b[0m     \u001b[1;32mdef\u001b[0m \u001b[0mmethod\u001b[0m\u001b[1;33m(\u001b[0m\u001b[0mself\u001b[0m\u001b[1;33m)\u001b[0m\u001b[1;33m:\u001b[0m\u001b[1;33m\u001b[0m\u001b[1;33m\u001b[0m\u001b[0m\n\u001b[0;32m      4\u001b[0m         \u001b[1;32mpass\u001b[0m\u001b[1;33m\u001b[0m\u001b[1;33m\u001b[0m\u001b[0m\n\u001b[0;32m      5\u001b[0m     \u001b[0mmethod\u001b[0m \u001b[1;33m=\u001b[0m \u001b[0mmy_decorator\u001b[0m\u001b[1;33m(\u001b[0m\u001b[0mmethod\u001b[0m\u001b[1;33m)\u001b[0m\u001b[1;33m\u001b[0m\u001b[1;33m\u001b[0m\u001b[0m\n",
      "\u001b[1;31mNameError\u001b[0m: name 'my_decorator' is not defined"
     ]
    }
   ],
   "source": [
    "class C(object):\n",
    "    @my_decorator #데코레이터 문법\n",
    "    def method(self):\n",
    "        pass\n",
    "    method = my_decorator(method)"
   ]
  },
  {
   "cell_type": "code",
   "execution_count": 24,
   "metadata": {},
   "outputs": [
    {
     "name": "stdout",
     "output_type": "stream",
     "text": [
      "random_tree() 2.4001815000001443\n"
     ]
    }
   ],
   "source": [
    "import random\n",
    "import time\n",
    "\n",
    "#def benchmark(func):\n",
    "    \n",
    "    \n",
    "    \n",
    "def random_tree(n):\n",
    "    t=  time.perf_counter()\n",
    "    temp = [n for n in range(n)]\n",
    "    for i in range(n+1):\n",
    "        temp[random.choice(temp)] = random.choice(temp)\n",
    "    print(\"random_tree()\",time.perf_counter()-t)\n",
    "    return temp\n",
    "\n",
    "\n",
    "if __name__ == \"__main__\":\n",
    "    random_tree(1000000)"
   ]
  },
  {
   "cell_type": "code",
   "execution_count": 26,
   "metadata": {},
   "outputs": [
    {
     "name": "stdout",
     "output_type": "stream",
     "text": [
      "random_tree() 2.385548799999924\n"
     ]
    }
   ],
   "source": [
    "import random\n",
    "import time\n",
    "\n",
    "def benchmark(func):\n",
    "    def wrapper(*args, **kwargs):\n",
    "        t=  time.perf_counter()\n",
    "        res = func(*args, **kwargs)\n",
    "        print(\"random_tree()\",time.perf_counter()-t)\n",
    "    return wrapper\n",
    "\n",
    "def random_tree(n):\n",
    "    temp = [n for n in range(n)]\n",
    "    for i in range(n+1):\n",
    "        temp[random.choice(temp)] = random.choice(temp)\n",
    "    return temp\n",
    "\n",
    "\n",
    "if __name__ == \"__main__\":\n",
    "    random_tree = benchmark(random_tree)\n",
    "    random_tree(1000000)"
   ]
  },
  {
   "cell_type": "code",
   "execution_count": 27,
   "metadata": {},
   "outputs": [
    {
     "name": "stdout",
     "output_type": "stream",
     "text": [
      "random_tree() 2.3919212999999218\n"
     ]
    }
   ],
   "source": [
    "import random\n",
    "import time\n",
    "\n",
    "def benchmark(func):\n",
    "    def wrapper(*args, **kwargs):\n",
    "        t=  time.perf_counter()\n",
    "        res = func(*args, **kwargs)\n",
    "        print(\"random_tree()\",time.perf_counter()-t)\n",
    "    return wrapper\n",
    "\n",
    "@benchmark # <- 데코레이터\n",
    "def random_tree(n):\n",
    "    temp = [n for n in range(n)]\n",
    "    for i in range(n+1):\n",
    "        temp[random.choice(temp)] = random.choice(temp)\n",
    "    return temp\n",
    "\n",
    "\n",
    "if __name__ == \"__main__\":\n",
    "    random_tree(1000000)"
   ]
  },
  {
   "cell_type": "code",
   "execution_count": 37,
   "metadata": {},
   "outputs": [
    {
     "name": "stdout",
     "output_type": "stream",
     "text": [
      "foo(<__main__.A object at 0x00000198BFBEAA08>, 1) 실행\n",
      "static_foo(2) 실행\n",
      "class_foo(<class '__main__.A'>, 3) 실행 \n"
     ]
    }
   ],
   "source": [
    "class A(object):\n",
    "    def foo(self, x):\n",
    "        print(\"foo({0}, {1}) 실행\".format(self,x))\n",
    "    \n",
    "    @classmethod\n",
    "    def class_foo(cls,x):\n",
    "        print(\"class_foo({0}, {1}) 실행 \".format(cls,x))\n",
    "    \n",
    "    @staticmethod\n",
    "    def static_foo(x):\n",
    "        print(\"static_foo({0}) 실행\".format(x))\n",
    "        \n",
    "if __name__ == \"__main__\":\n",
    "    a = A()\n",
    "    a.foo(1)\n",
    "    a.static_foo(2)\n",
    "    a.class_foo(3)"
   ]
  },
  {
   "cell_type": "markdown",
   "metadata": {},
   "source": [
    "## Property"
   ]
  },
  {
   "cell_type": "code",
   "execution_count": 46,
   "metadata": {},
   "outputs": [
    {
     "name": "stdout",
     "output_type": "stream",
     "text": [
      "joo\n",
      "sang\n"
     ]
    }
   ],
   "source": [
    "class C :\n",
    "    def __init__(self, name):\n",
    "        self.name = name\n",
    "\n",
    "    def getName(self):\n",
    "        return self.name\n",
    "    \n",
    "    def setName(self, new_name):\n",
    "        self.name = new_name\n",
    "    \n",
    "if __name__ == \"__main__\":\n",
    "    c = C('joo')\n",
    "    print(c.getName())\n",
    "    c.setName('sang')\n",
    "    print(c.getName())"
   ]
  },
  {
   "cell_type": "code",
   "execution_count": 3,
   "metadata": {},
   "outputs": [
    {
     "name": "stdout",
     "output_type": "stream",
     "text": [
      "setter\n",
      "getter\n",
      "joo\n",
      "setter\n",
      "getter\n",
      "sang\n"
     ]
    }
   ],
   "source": [
    "class C :\n",
    "    def __init__(self, name):\n",
    "        self.name = name\n",
    "\n",
    "    @property\n",
    "    def name(self):\n",
    "        print('getter')\n",
    "        return self._name\n",
    "    \n",
    "    @name.setter\n",
    "    def name(self, new_name):\n",
    "        print('setter')\n",
    "        self._name = new_name\n",
    "    \n",
    "if __name__ == \"__main__\":\n",
    "    c = C('joo')\n",
    "    print(c.name)\n",
    "    c.name = 'sang'\n",
    "    print(c.name)"
   ]
  },
  {
   "cell_type": "markdown",
   "metadata": {},
   "source": [
    "## 옵저버(관찰자) 패턴 "
   ]
  },
  {
   "cell_type": "code",
   "execution_count": 5,
   "metadata": {},
   "outputs": [
    {
     "name": "stdout",
     "output_type": "stream",
     "text": [
      "Joo, lunch time\n",
      "Sang, lunch time\n",
      "Hyun, lunch time\n",
      "Joo, go to home\n",
      "Sang, go to home\n"
     ]
    }
   ],
   "source": [
    "class Subscriber(object):\n",
    "    def __init__(self, name):\n",
    "        self.name = name\n",
    "        \n",
    "    def update(self, message):\n",
    "        print(\"{0}, {1}\".format(self.name, message))\n",
    "        \n",
    "class Publisher(object):\n",
    "    def __init__(self):\n",
    "        self.subscribers = set()\n",
    "        \n",
    "    def register(self, who):\n",
    "        self.subscribers.add(who)\n",
    "        \n",
    "    def unregister(self, who):\n",
    "        self.subscribers.discard(who)\n",
    "        \n",
    "    def dispatch(self, message):\n",
    "        for subscriber in self.subscribers:\n",
    "            subscriber.update(message)\n",
    "        \n",
    "        \n",
    "if __name__ == \"__main__\":\n",
    "    pub = Publisher()\n",
    "    \n",
    "    joo = Subscriber('Joo')\n",
    "    sang = Subscriber('Sang')\n",
    "    hyun = Subscriber('Hyun')\n",
    "    \n",
    "    pub.register(joo)\n",
    "    pub.register(sang)\n",
    "    pub.register(hyun)\n",
    "    \n",
    "    pub.dispatch(\"lunch time\")\n",
    "    pub.unregister(hyun)\n",
    "    pub.dispatch(\"go to home\")"
   ]
  },
  {
   "cell_type": "code",
   "execution_count": 14,
   "metadata": {},
   "outputs": [
    {
     "name": "stdout",
     "output_type": "stream",
     "text": [
      "Joo, lunch time\n",
      "Sang, lunch time\n",
      "Hyun, lunch time\n",
      "Joo, go to home\n",
      "Sang, go to home\n"
     ]
    }
   ],
   "source": [
    "class SubscriberOne(object):\n",
    "    def __init__(self, name):\n",
    "        self.name = name\n",
    "        \n",
    "    def update(self, message):\n",
    "        print(\"{0}, {1}\".format(self.name, message))\n",
    "        \n",
    "class SubscriberTwo(object):\n",
    "    def __init__(self, name):\n",
    "        self.name = name\n",
    "        \n",
    "    def receive(self, message):\n",
    "        print(\"{0}, {1}\".format(self.name, message))\n",
    "        \n",
    "class Publisher(object):\n",
    "    def __init__(self):\n",
    "        self.subscribers = dict()\n",
    "        \n",
    "    def register(self, who, callback = None):\n",
    "        if callback is None:\n",
    "            callback = getattr(who, 'update')\n",
    "            \n",
    "        self.subscribers[who] = callback\n",
    "        \n",
    "    def unregister(self, who):\n",
    "        del self.subscribers[who]\n",
    "        \n",
    "    def dispatch(self, message):\n",
    "        for subscriber, callback in self.subscribers.items():\n",
    "            callback(message)\n",
    "        \n",
    "        \n",
    "if __name__ == \"__main__\":\n",
    "    pub = Publisher()\n",
    "    \n",
    "    joo = SubscriberOne('Joo')\n",
    "    sang = SubscriberTwo('Sang')\n",
    "    hyun = SubscriberOne('Hyun')\n",
    "    \n",
    "    pub.register(joo, joo.update)\n",
    "    pub.register(sang, sang.receive)\n",
    "    pub.register(hyun)\n",
    "    \n",
    "    pub.dispatch(\"lunch time\")\n",
    "    pub.unregister(hyun)\n",
    "    pub.dispatch(\"go to home\")"
   ]
  },
  {
   "cell_type": "code",
   "execution_count": 17,
   "metadata": {},
   "outputs": [
    {
     "name": "stdout",
     "output_type": "stream",
     "text": [
      "Joo, it is a lunch time\n",
      "Hyun, it is a lunch time\n",
      "Joo, time to go home\n",
      "Sang, time to go home\n"
     ]
    }
   ],
   "source": [
    "class Subscriber(object):\n",
    "    def __init__(self, name):\n",
    "        self.name = name\n",
    "        \n",
    "    def update(self, message):\n",
    "        print(\"{0}, {1}\".format(self.name, message))\n",
    "        \n",
    "class Publisher(object):\n",
    "    def __init__(self, events):\n",
    "        self.subscribers = {event: dict() for event in events}\n",
    "        \n",
    "    def get_subscribers(self, event):\n",
    "        return self.subscribers[event]\n",
    "        \n",
    "    def register(self, event, who, callback = None):\n",
    "        if callback is None:\n",
    "            callback = getattr(who, 'update')\n",
    "        self.get_subscribers(event)[who] = callback\n",
    "        \n",
    "    def unregister(self,event, who):\n",
    "        del self.get_subscribers(event)[who]\n",
    "        \n",
    "    def dispatch(self, event, message):\n",
    "        for subscriber, callback in self.get_subscribers(event).items():\n",
    "            callback(message)\n",
    "        \n",
    "        \n",
    "if __name__ == \"__main__\":\n",
    "    pub = Publisher([\"lunch\", \"go home\"])\n",
    "    \n",
    "    joo = Subscriber('Joo')\n",
    "    sang = Subscriber('Sang')\n",
    "    hyun = Subscriber('Hyun')\n",
    "    \n",
    "    pub.register('lunch', joo)\n",
    "    pub.register('go home',joo)\n",
    "    pub.register('go home',sang)\n",
    "    pub.register('lunch', hyun)\n",
    "    \n",
    "    pub.dispatch(\"lunch\",\"it is a lunch time\")\n",
    "    pub.dispatch(\"go home\",\"time to go home\")"
   ]
  },
  {
   "cell_type": "markdown",
   "metadata": {},
   "source": [
    "## 싱글턴(singleton) 패턴 "
   ]
  },
  {
   "cell_type": "code",
   "execution_count": 30,
   "metadata": {},
   "outputs": [
    {
     "name": "stdout",
     "output_type": "stream",
     "text": [
      "객체를 위한 메모리 생성\n",
      "system\n",
      "system\n",
      "True\n",
      "2589461405128\n",
      "2589461405128\n"
     ]
    }
   ],
   "source": [
    "class SinEx:\n",
    "    _sing = None\n",
    "    \n",
    "    def __init__(self):\n",
    "        print(\"system\")\n",
    "    \n",
    "    def __new__(self, *args, **kwargs):\n",
    "        #print(\"__new__\")\n",
    "        if not self._sing:\n",
    "            print('객체를 위한 메모리 생성') #번지의 공유로 인한 한번 호출 확인\n",
    "            self._sing = super(SinEx,self).__new__(self, *args,**kwargs)\n",
    "        return self._sing\n",
    "\n",
    "\n",
    "if __name__ == \"__main__\":\n",
    "    x = SinEx()\n",
    "    y = SinEx()\n",
    "    print(x == y)\n",
    "    print(id(x))\n",
    "    print(id(y))"
   ]
  },
  {
   "cell_type": "markdown",
   "metadata": {},
   "source": [
    "## 프로세스 "
   ]
  },
  {
   "cell_type": "code",
   "execution_count": 31,
   "metadata": {},
   "outputs": [],
   "source": [
    "# 프로세스 : 실행중인 인스턴스\n",
    "#스케줄 : 우선순위\n",
    "#병렬성과 동시성은 다르다\n",
    "#멀티 태스킹 => 동시성\n",
    "#CPU 앙보 시점\n",
    "#1. I/O 발생시 실행 불가능하면\n",
    "#예를 들어 Ready Queue에 크롬이 있었다면 Wait Queue로 간다.\n",
    "#이렇게 되면 Ready Queue의 다른 프로세스가 우선권을 가져간다.\n",
    "#2. 시간 만료시 (100ms)\n",
    "\n",
    "#프로세스와 스레드의 공통점\n",
    "#-동시성\n",
    "#process                                 Thread\n",
    "#fork()                                  pthread_create()\n",
    "#                                        clone()\n",
    "#------------                            ---------------------\n",
    "#sys_fork() / do_fork()                  sys_clone() / do_fork()\n",
    "\n",
    "#프로세스와 스레드이 차이점\n",
    "#process                                 Thread\n",
    "#fork()                                  pthread_create(CLONE_VM)\n",
    "#                                        clone(CLONE_VM)\n",
    "#------------                            ---------------------\n",
    "#sys_fork() / do_fork()                  sys_clone(CLONE_VM) / do_fork(CLONE_VM)\n",
    "\n",
    "\n",
    "\n",
    "#프로세스는 모든 주소가 분리되고 스레드는 모든 주소를 공유한다.\n",
    "#스레드는 부모와 자식이 shallow copy를 하여 메모리를 공유한다.\n",
    "#프로세스는 분리 되어 있기 때문에 프로세스간 데이터 공유가 거의 불가능하다.\n"
   ]
  },
  {
   "cell_type": "markdown",
   "metadata": {},
   "source": [
    "## 파이썬 쓰레드 "
   ]
  },
  {
   "cell_type": "code",
   "execution_count": 36,
   "metadata": {},
   "outputs": [
    {
     "name": "stdout",
     "output_type": "stream",
     "text": [
      "스레드 1 : 처리완료! 0스레드 2 : 처리완료! 1\n",
      "스레드 2 : 처리완료! 2\n",
      "스레드 2 : 처리완료! 3\n",
      "스레드 2 : 처리완료! 4\n",
      "스레드 2 : 처리완료! 5\n",
      "스레드 2 : 처리완료! 6\n",
      "스레드 2 : 처리완료! 7\n",
      "\n",
      "스레드 1 : 처리완료! 8\n",
      "스레드 1 : 처리완료! 9\n",
      "스레드 1 : 처리완료! 10스레드 4 : 처리완료! 11\n",
      "스레드 4 : 처리완료! 12\n",
      "스레드 4 : 처리완료! 13\n",
      "스레드 4 : 처리완료! 14\n",
      "스레드 4 : 처리완료! 15스레드 2 : 처리완료! 16\n",
      "스레드 2 : 처리완료! 17\n",
      "스레드 2 : 처리완료! 18\n",
      "스레드 1 : 처리완료! 19\n",
      "\n",
      "\n"
     ]
    }
   ],
   "source": [
    "import threading\n",
    "import queue\n",
    "\n",
    "q = queue.Queue()\n",
    "\n",
    "def worker(num):\n",
    "    while True:\n",
    "        item = q.get()\n",
    "        if item is None:\n",
    "            break\n",
    "            \n",
    "        print(\"스레드 {0} : 처리완료! {1}\".format(num+1, item))\n",
    "        q.task_done()\n",
    "\n",
    "if __name__ == \"__main__\":\n",
    "    num_worker_threads =5\n",
    "    threads = []\n",
    "    for i in range(num_worker_threads):\n",
    "        t = threading.Thread(target = worker, args = (i,))\n",
    "        t.start()\n",
    "        threads.append(t)\n",
    "        \n",
    "    for item in range(20):\n",
    "        q.put(item)\n",
    "        \n",
    "    q.join()\n",
    "    \n",
    "    for i in range(num_worker_threads):\n",
    "        q.put(None)\n",
    "        \n",
    "    for t in threads:\n",
    "        t.join()"
   ]
  },
  {
   "cell_type": "code",
   "execution_count": null,
   "metadata": {},
   "outputs": [],
   "source": [
    "#locking / unlocking\n",
    "\n",
    "# while lock != 0 : pass                       while lock != 0 : pass\n",
    "#     lock = 1                                     lock = 1\n",
    "#     local = sum                                  local = sum \n",
    "#     local +=1                                    local += 1\n",
    "#     sum = local                                  sum = local\n",
    "#     lock = 0                                     lock = 0\n",
    "\n",
    "# while문과 lock =1 을 한번에 연산하기 위해선 Assembly로 코딩을 해야 한다.\n",
    "#CAS(Compare And Set) 연산  -> lock() & unlock()\n",
    "\n",
    "#->>> Mutex - Sleep Lock"
   ]
  }
 ],
 "metadata": {
  "kernelspec": {
   "display_name": "Python 3",
   "language": "python",
   "name": "python3"
  },
  "language_info": {
   "codemirror_mode": {
    "name": "ipython",
    "version": 3
   },
   "file_extension": ".py",
   "mimetype": "text/x-python",
   "name": "python",
   "nbconvert_exporter": "python",
   "pygments_lexer": "ipython3",
   "version": "3.7.6"
  }
 },
 "nbformat": 4,
 "nbformat_minor": 4
}
