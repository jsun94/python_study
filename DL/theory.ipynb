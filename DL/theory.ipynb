{
 "cells": [
  {
   "cell_type": "markdown",
   "metadata": {},
   "source": [
    "y^ =  wx + b\n",
    "\n",
    "w = 기울기 = 가중치\n",
    "\n",
    "b = 절편 = 편향\n",
    "\n",
    "y^ = 예측\n",
    "\n",
    "- Hypoyhesis:\n",
    "y^ = wx + b\n",
    "\n",
    "- Parameters:\n",
    "w, b\n",
    "\n",
    "- Cost Function:\n",
    "J(w,b) = 1/2(y^ - y)^2\n",
    "\n",
    "\n",
    "Chain Rule:\n",
    "\n",
    "J(w,b) = 1/2(y^ - y)^2\n",
    "\n",
    "y^ =  wx + b\n",
    "\n",
    "y^에 대하여 편미분\n",
    "\n",
    "w에 대하여 편미분\n",
    "\n",
    "-> x(y^ - y) "
   ]
  },
  {
   "cell_type": "markdown",
   "metadata": {},
   "source": [
    "Classification(분류는 Logistic\n",
    "\n",
    "가설 표현, Sigmoid 함수, Decision Boundary(결정경계), Cost Function, Optimizer(Gradient Descent)"
   ]
  },
  {
   "cell_type": "markdown",
   "metadata": {},
   "source": [
    "Classfication(분류)\n",
    "\n",
    "Binary Classification(이진 분류)란?:\n",
    "    #값은 0 또는 1`\n",
    "    \n",
    "y^을 z라 하고 임계함수(sigmoid 등)을 이용하여 최종적인 y^을 얻는다"
   ]
  },
  {
   "cell_type": "markdown",
   "metadata": {},
   "source": [
    "\n"
   ]
  }
 ],
 "metadata": {
  "kernelspec": {
   "display_name": "Python 3",
   "language": "python",
   "name": "python3"
  },
  "language_info": {
   "codemirror_mode": {
    "name": "ipython",
    "version": 3
   },
   "file_extension": ".py",
   "mimetype": "text/x-python",
   "name": "python",
   "nbconvert_exporter": "python",
   "pygments_lexer": "ipython3",
   "version": "3.7.6"
  }
 },
 "nbformat": 4,
 "nbformat_minor": 4
}
