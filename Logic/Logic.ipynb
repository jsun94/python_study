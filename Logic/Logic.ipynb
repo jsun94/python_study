{
 "cells": [
  {
   "cell_type": "markdown",
   "metadata": {},
   "source": [
    "## 별문제 "
   ]
  },
  {
   "cell_type": "code",
   "execution_count": 7,
   "metadata": {},
   "outputs": [
    {
     "name": "stdout",
     "output_type": "stream",
     "text": [
      "* \n",
      "* * \n",
      "* * * \n",
      "* * * * \n",
      "* * * * * \n"
     ]
    }
   ],
   "source": [
    "i = 0\n",
    "while True:\n",
    "    i += 1\n",
    "    if i >5 : \n",
    "        break\n",
    "    print(\"* \"*i)"
   ]
  },
  {
   "cell_type": "code",
   "execution_count": 8,
   "metadata": {},
   "outputs": [
    {
     "name": "stdout",
     "output_type": "stream",
     "text": [
      "  *  \n",
      " *** \n",
      "*****\n"
     ]
    }
   ],
   "source": [
    "i = \"{0:^5}\".format('*')\n",
    "a = 1\n",
    "while True:\n",
    "    if a>5:\n",
    "        break\n",
    "    print(\"{0:^5}\".format('*'*a))\n",
    "    a = a+2"
   ]
  },
  {
   "cell_type": "code",
   "execution_count": 9,
   "metadata": {},
   "outputs": [
    {
     "name": "stdout",
     "output_type": "stream",
     "text": [
      "  *  \n",
      " *** \n",
      "*****\n",
      " *** \n",
      "  *  \n"
     ]
    }
   ],
   "source": [
    "a = 1\n",
    "b = 0\n",
    "max = 5\n",
    "while True:\n",
    "    print(\"{0:^5}\".format('*'*a))\n",
    "    a = a+2\n",
    "    if a >max:\n",
    "        b = a-2\n",
    "        while True:\n",
    "            b = b-2\n",
    "            print(\"{0:^5}\".format('*'*b))\n",
    "            if b ==1 :\n",
    "                break\n",
    "    if b == 1:\n",
    "        break"
   ]
  },
  {
   "cell_type": "markdown",
   "metadata": {},
   "source": [
    "## 숫자 배열 "
   ]
  },
  {
   "cell_type": "code",
   "execution_count": 10,
   "metadata": {},
   "outputs": [
    {
     "name": "stdout",
     "output_type": "stream",
     "text": [
      "   1    2    3    4    5 \n",
      "  16   17   18   19    6 \n",
      "  15   24   25   20    7 \n",
      "  14   23   22   21    8 \n",
      "  13   12   11   10    9 \n"
     ]
    }
   ],
   "source": [
    "def display(a):\n",
    "    for i in range(n):\n",
    "        for j in range(n):\n",
    "            print(\"%4d\" %a[i][j], end = \" \")\n",
    "        print()\n",
    "\n",
    "n = 5\n",
    "a = [[0]*n for j in range(n)]\n",
    "row = 0 #행\n",
    "col = -1 #열 \n",
    "count = 1\n",
    "num = n\n",
    "\n",
    "while True:\n",
    "    \n",
    "    for i in range(num):\n",
    "        col = col +1\n",
    "        a[row][col] = count\n",
    "        count = count +1\n",
    "    num = num-1\n",
    "    if num == 0:\n",
    "        break\n",
    "\n",
    "    for i in range(num):\n",
    "        row = row +1\n",
    "        a[row][col] = count\n",
    "        count = count +1\n",
    "    \n",
    "    for i in range(num):\n",
    "        col = col -1\n",
    "        a[row][col] = count\n",
    "        count = count +1\n",
    "    num = num -1\n",
    "    if num == 0:\n",
    "        break\n",
    "\n",
    "    for i in range(num):\n",
    "        row = row -1\n",
    "        a[row][col] = count\n",
    "        count = count +1\n",
    "\n",
    "\n",
    "display(a)"
   ]
  },
  {
   "cell_type": "code",
   "execution_count": 11,
   "metadata": {},
   "outputs": [
    {
     "name": "stdout",
     "output_type": "stream",
     "text": [
      "   1    2    3    4    5 \n",
      "  16   17   18   19    6 \n",
      "  15   24   25   20    7 \n",
      "  14   23   22   21    8 \n",
      "  13   12   11   10    9 \n"
     ]
    }
   ],
   "source": [
    "def display(a):\n",
    "    for i in range(n):\n",
    "        for j in range(n):\n",
    "            print(\"%4d\" %a[i][j], end = \" \")\n",
    "        print()\n",
    "\n",
    "n = 5\n",
    "a = [[0]*n for j in range(n)]\n",
    "row = 0 #행\n",
    "col = -1 #열 \n",
    "count = 1\n",
    "num = n\n",
    "sign = 1\n",
    "\n",
    "while True:\n",
    "    \n",
    "    for i in range(num):\n",
    "        col = col + sign\n",
    "        a[row][col] = count\n",
    "        count = count +1\n",
    "    num = num-1\n",
    "    if num == 0:\n",
    "        break\n",
    "\n",
    "    for i in range(num):\n",
    "        row = row + sign\n",
    "        a[row][col] = count\n",
    "        count = count +1\n",
    "    sign = -sign\n",
    "\n",
    "\n",
    "display(a)"
   ]
  },
  {
   "cell_type": "code",
   "execution_count": 12,
   "metadata": {},
   "outputs": [
    {
     "name": "stdout",
     "output_type": "stream",
     "text": [
      "   1    2    3    4    5 \n",
      "   6    7    8    9   10 \n",
      "  11   12   13   14   15 \n",
      "  16   17   18   19   20 \n",
      "  21   22   23   24   25 \n"
     ]
    }
   ],
   "source": [
    "def display(a):\n",
    "    for i in range(n):\n",
    "        for j in range(n):\n",
    "            print(\"%4d\" %a[i][j], end = \" \")\n",
    "        print()\n",
    "        \n",
    "def init(n):\n",
    "        a = [[0]*n for j in range(n)]\n",
    "        return a\n",
    "        \n",
    "def fill(a,n):\n",
    "    count = 1\n",
    "    for i in range(n):\n",
    "        for j in range(n):\n",
    "            a[i][j] = count\n",
    "            count += 1\n",
    "n = 5\n",
    "a = init(n)\n",
    "\n",
    "fill(a,n)\n",
    "display(a)"
   ]
  },
  {
   "cell_type": "code",
   "execution_count": 13,
   "metadata": {},
   "outputs": [
    {
     "name": "stdout",
     "output_type": "stream",
     "text": [
      "   1    0    0    0    0 \n",
      "   2    6    0    0    0 \n",
      "   3    7   10    0    0 \n",
      "   4    8   11   13    0 \n",
      "   5    9   12   14   15 \n"
     ]
    }
   ],
   "source": [
    "def display(a):\n",
    "    for i in range(n):\n",
    "        for j in range(n):\n",
    "            print(\"%4d\" %a[i][j], end = \" \")\n",
    "        print()\n",
    "        \n",
    "def init(n):\n",
    "        a = [[0]*n for j in range(n)]\n",
    "        return a\n",
    "        \n",
    "def fill(a,n):\n",
    "    count = 1\n",
    "    for i in range(n):\n",
    "        for j in range(n-i):\n",
    "            a[i+j][i] = count\n",
    "            count += 1\n",
    "        \n",
    "n = 5\n",
    "a = init(n)\n",
    "\n",
    "fill(a,n)\n",
    "display(a)"
   ]
  },
  {
   "cell_type": "code",
   "execution_count": 14,
   "metadata": {},
   "outputs": [
    {
     "name": "stdout",
     "output_type": "stream",
     "text": [
      "   5    4    3    2    1 \n",
      "   9    8    7    6    0 \n",
      "  12   11   10    0    0 \n",
      "  14   13    0    0    0 \n",
      "  15    0    0    0    0 \n"
     ]
    }
   ],
   "source": [
    "def display(a):\n",
    "    for i in range(n):\n",
    "        for j in range(n):\n",
    "            print(\"%4d\" %a[i][j], end = \" \")\n",
    "        print()\n",
    "        \n",
    "def init(n):\n",
    "        a = [[0]*n for j in range(n)]\n",
    "        return a\n",
    "        \n",
    "def fill(a,n):\n",
    "    count = 1\n",
    "    for i in range(n):\n",
    "        for j in range(n-i):\n",
    "            a[i][n-i-1-j] = count\n",
    "            count += 1\n",
    "        \n",
    "n = 5\n",
    "a = init(n)\n",
    "\n",
    "fill(a,n)\n",
    "display(a)"
   ]
  },
  {
   "cell_type": "code",
   "execution_count": 15,
   "metadata": {},
   "outputs": [
    {
     "name": "stdout",
     "output_type": "stream",
     "text": [
      "   1    3    6   10   15 \n",
      "   2    5    9   14    0 \n",
      "   4    8   13    0    0 \n",
      "   7   12    0    0    0 \n",
      "  11    0    0    0    0 \n"
     ]
    }
   ],
   "source": [
    "def display(a):\n",
    "    for i in range(n):\n",
    "        for j in range(n):\n",
    "            print(\"%4d\" %a[i][j], end = \" \")\n",
    "        print()\n",
    "        \n",
    "def init(n):\n",
    "        a = [[0]*n for j in range(n)]\n",
    "        return a\n",
    "        \n",
    "def fill(a,n):\n",
    "    count = 1\n",
    "    for i in range(n):\n",
    "        for j in range(i+1):\n",
    "            a[i-j][j] = count\n",
    "            count += 1\n",
    "        \n",
    "n = 5\n",
    "a = init(n)\n",
    "\n",
    "fill(a,n)\n",
    "display(a)"
   ]
  },
  {
   "cell_type": "code",
   "execution_count": 16,
   "metadata": {},
   "outputs": [
    {
     "name": "stdout",
     "output_type": "stream",
     "text": [
      "   1    3    6   10   15 \n",
      "   2    5    9   14   19 \n",
      "   4    8   13   18   22 \n",
      "   7   12   17   21   24 \n",
      "  11   16   20   23   25 \n"
     ]
    }
   ],
   "source": [
    "def display(a):\n",
    "    for i in range(n):\n",
    "        for j in range(n):\n",
    "            print(\"%4d\" %a[i][j], end = \" \")\n",
    "        print()\n",
    "        \n",
    "def init(n):\n",
    "        a = [[0]*n for j in range(n)]\n",
    "        return a\n",
    "        \n",
    "def fill(a,n):\n",
    "    count = 1\n",
    "    for k in range(2*n-1):\n",
    "        for i in range(n):\n",
    "            for j in range(n):\n",
    "                if (i+j) ==k:\n",
    "                    a[j][i] = count\n",
    "                    count +=1\n",
    "        \n",
    "n = 5\n",
    "a = init(n)\n",
    "\n",
    "fill(a,n)\n",
    "display(a)"
   ]
  },
  {
   "cell_type": "code",
   "execution_count": 17,
   "metadata": {},
   "outputs": [
    {
     "name": "stdout",
     "output_type": "stream",
     "text": [
      "   1    0    0    0   13 \n",
      "   2    6    0   10   14 \n",
      "   3    7    9   11   15 \n",
      "   4    8    0   12   16 \n",
      "   5    0    0    0   17 \n"
     ]
    }
   ],
   "source": [
    "def display(a):\n",
    "    for i in range(n):\n",
    "        for j in range(n):\n",
    "            print(\"%4d\" %a[i][j], end = \" \")\n",
    "        print()\n",
    "        \n",
    "def init(n):\n",
    "        a = [[0]*n for j in range(n)]\n",
    "        return a\n",
    "        \n",
    "def fill(a,n):\n",
    "    count = 1\n",
    "    inc = 0\n",
    "    flag = 1\n",
    "    for i in range(n):\n",
    "        for j in range(n-2*inc):\n",
    "            a[j+inc][i] = count\n",
    "            count +=1\n",
    "        if n //2 == i:\n",
    "            flag = -flag\n",
    "        inc = inc +flag\n",
    "\n",
    "\n",
    "        \n",
    "n = 5\n",
    "a = init(n)\n",
    "\n",
    "fill(a,n)\n",
    "display(a)"
   ]
  },
  {
   "cell_type": "markdown",
   "metadata": {},
   "source": [
    "## 홀수 마방진 풀이 "
   ]
  },
  {
   "cell_type": "code",
   "execution_count": 22,
   "metadata": {},
   "outputs": [
    {
     "name": "stdout",
     "output_type": "stream",
     "text": [
      "  15    8    1   24   17 \n",
      "  16   14    7    5   23 \n",
      "  22   20   13    6    4 \n",
      "   3   21   19   12   10 \n",
      "   9    2   25   18   11 \n"
     ]
    }
   ],
   "source": [
    "def display(a):\n",
    "    for i in range(n):\n",
    "        for j in range(n):\n",
    "            print(\"%4d\" %a[i][j], end = \" \")\n",
    "        print()\n",
    "\n",
    "n = 5\n",
    "a = [[0 for i in range(n)] for j in range(n)]\n",
    "col = n //2\n",
    "row = 0\n",
    "count = 1\n",
    "a[row][col] = count\n",
    "r = 0\n",
    "c = 0\n",
    "\n",
    "\n",
    "for i in range(n**2-1):\n",
    "    r = row -1\n",
    "    c = col -1\n",
    "    count += 1\n",
    "    if(r < 0) :\n",
    "        r = n - 1\n",
    "        \n",
    "    if(c < 0):\n",
    "        c = n - 1\n",
    "        \n",
    "    if(a[r][c] != 0):\n",
    "        r = row +1\n",
    "        c = col\n",
    "        \n",
    "    a[r][c] = count\n",
    "    row = r\n",
    "    col = c\n",
    "    \n",
    "    \n",
    "display(a)"
   ]
  },
  {
   "cell_type": "markdown",
   "metadata": {},
   "source": [
    "## 홀수 마방진 검증 코드 "
   ]
  },
  {
   "cell_type": "code",
   "execution_count": 28,
   "metadata": {},
   "outputs": [
    {
     "name": "stdout",
     "output_type": "stream",
     "text": [
      "  15    8    1   24   17   65 \n",
      "  16   14    7    5   23   65 \n",
      "  22   20   13    6    4   65 \n",
      "   3   21   19   12   10   65 \n",
      "   9    2   25   18   11   65 \n",
      "  65   65   65   65   65   65 \n"
     ]
    }
   ],
   "source": [
    "def display(a):\n",
    "    for i in range(n+1):\n",
    "        for j in range(n+1):\n",
    "            print(\"%4d\" %a[i][j], end = \" \")\n",
    "        print()\n",
    "\n",
    "def check(a,n):\n",
    "    for i in range(n):\n",
    "        for j in range(n):\n",
    "            a[i][n] += a[i][j]\n",
    "            a[n][i] += a[j][i]\n",
    "            if(i == j):\n",
    "                a[n][n] += a[i][j]\n",
    "\n",
    "\n",
    "        \n",
    "n = 5\n",
    "a = [[0 for i in range(n+1)] for j in range(n+1)]\n",
    "col = n //2\n",
    "row = 0\n",
    "count = 1\n",
    "a[row][col] = count\n",
    "r = 0\n",
    "c = 0\n",
    "\n",
    "\n",
    "for i in range(n**2-1):\n",
    "    r = row -1\n",
    "    c = col -1\n",
    "    count += 1\n",
    "    if(r < 0) :\n",
    "        r = n - 1\n",
    "        \n",
    "    if(c < 0):\n",
    "        c = n - 1\n",
    "        \n",
    "    if(a[r][c] != 0):\n",
    "        r = row +1\n",
    "        c = col\n",
    "        \n",
    "    a[r][c] = count\n",
    "    row = r\n",
    "    col = c\n",
    "    \n",
    "\n",
    "        \n",
    "check(a,n)    \n",
    "display(a)\n"
   ]
  }
 ],
 "metadata": {
  "kernelspec": {
   "display_name": "Python 3",
   "language": "python",
   "name": "python3"
  },
  "language_info": {
   "codemirror_mode": {
    "name": "ipython",
    "version": 3
   },
   "file_extension": ".py",
   "mimetype": "text/x-python",
   "name": "python",
   "nbconvert_exporter": "python",
   "pygments_lexer": "ipython3",
   "version": "3.7.6"
  }
 },
 "nbformat": 4,
 "nbformat_minor": 4
}
