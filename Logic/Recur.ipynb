{
 "cells": [
  {
   "cell_type": "code",
   "execution_count": 40,
   "metadata": {},
   "outputs": [],
   "source": [
    "def sum_recur(n):\n",
    "    if(n == 1):\n",
    "        return 1\n",
    "    \n",
    "    return n + sum_recur(n-1)\n",
    "\n",
    "def sum_iter(n):\n",
    "    total = 0\n",
    "    for i in range(n):\n",
    "        total += i+1\n",
    "        \n",
    "    return total"
   ]
  },
  {
   "cell_type": "code",
   "execution_count": 41,
   "metadata": {},
   "outputs": [
    {
     "name": "stdout",
     "output_type": "stream",
     "text": [
      "120\n",
      "120\n"
     ]
    }
   ],
   "source": [
    "print(sum_iter(15))\n",
    "print(sum_recur(15))"
   ]
  },
  {
   "cell_type": "code",
   "execution_count": 42,
   "metadata": {},
   "outputs": [],
   "source": [
    "def fibo(n):\n",
    "    a = [1,1]\n",
    "    for i in range(2,n+1):\n",
    "        a.append(a[i-1]+a[i-2])\n",
    "    return a\n",
    "    \n",
    "    "
   ]
  },
  {
   "cell_type": "code",
   "execution_count": 43,
   "metadata": {},
   "outputs": [
    {
     "name": "stdout",
     "output_type": "stream",
     "text": [
      "[1, 1, 2, 3, 5, 8, 13, 21, 34, 55, 89]\n"
     ]
    }
   ],
   "source": [
    "print(fibo(10))"
   ]
  },
  {
   "cell_type": "code",
   "execution_count": 44,
   "metadata": {},
   "outputs": [],
   "source": [
    "def fibo_int(n):\n",
    "    temp0 = 1\n",
    "    temp1 = 1\n",
    "    total = 0\n",
    "    \n",
    "    for i in range(n-1):\n",
    "        total = temp0 + temp1\n",
    "        temp0 = temp1\n",
    "        temp1 = total\n",
    "    return total\n",
    "    \n",
    "    "
   ]
  },
  {
   "cell_type": "code",
   "execution_count": 45,
   "metadata": {},
   "outputs": [
    {
     "name": "stdout",
     "output_type": "stream",
     "text": [
      "89\n"
     ]
    }
   ],
   "source": [
    "print(fibo_int(10))"
   ]
  },
  {
   "cell_type": "markdown",
   "metadata": {},
   "source": [
    "## 하노이의 탑 "
   ]
  },
  {
   "cell_type": "code",
   "execution_count": 70,
   "metadata": {},
   "outputs": [],
   "source": [
    "def Hanoi(n, fom, by, to):\n",
    "    if(n == 1):\n",
    "        print(\"%d : %s -> %s\"%(n,fom,to))\n",
    "        return \n",
    "    Hanoi(n-1,fom,to,by)\n",
    "    print(\"%d : %s -> %s\"%(n,fom,to))\n",
    "    Hanoi(n-1,by,fom,to)"
   ]
  },
  {
   "cell_type": "code",
   "execution_count": 71,
   "metadata": {},
   "outputs": [
    {
     "name": "stdout",
     "output_type": "stream",
     "text": [
      "1 : a -> c\n",
      "1 : a -> b\n",
      "2 : a -> c\n",
      "1 : b -> c\n"
     ]
    }
   ],
   "source": [
    "Hanoi(1,'a','b','c')\n",
    "Hanoi(2,'a','b','c')\n"
   ]
  },
  {
   "cell_type": "code",
   "execution_count": 72,
   "metadata": {},
   "outputs": [
    {
     "name": "stdout",
     "output_type": "stream",
     "text": [
      "2\n"
     ]
    }
   ],
   "source": [
    "a= 1\n",
    "b =2\n",
    "print(b)"
   ]
  },
  {
   "cell_type": "code",
   "execution_count": 73,
   "metadata": {},
   "outputs": [
    {
     "name": "stdout",
     "output_type": "stream",
     "text": [
      "1 : a -> c\n",
      "0\n"
     ]
    }
   ],
   "source": []
  },
  {
   "cell_type": "code",
   "execution_count": null,
   "metadata": {},
   "outputs": [],
   "source": []
  }
 ],
 "metadata": {
  "kernelspec": {
   "display_name": "Python 3",
   "language": "python",
   "name": "python3"
  },
  "language_info": {
   "codemirror_mode": {
    "name": "ipython",
    "version": 3
   },
   "file_extension": ".py",
   "mimetype": "text/x-python",
   "name": "python",
   "nbconvert_exporter": "python",
   "pygments_lexer": "ipython3",
   "version": "3.7.6"
  }
 },
 "nbformat": 4,
 "nbformat_minor": 4
}
