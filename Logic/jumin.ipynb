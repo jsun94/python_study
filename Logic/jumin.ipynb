{
 "cells": [
  {
   "cell_type": "code",
   "execution_count": 1,
   "metadata": {},
   "outputs": [],
   "source": [
    "#주민번호 맨 마지막 숫자는 주민번호가 올바른 번호인지 확인하는 번호이다.\n",
    "#맨 마지막 숫자를 뺴고 234567892345를 각 자리에 곱한다."
   ]
  },
  {
   "cell_type": "code",
   "execution_count": 17,
   "metadata": {},
   "outputs": [
    {
     "name": "stdout",
     "output_type": "stream",
     "text": [
      "9494949494944\n",
      "바르지 않은 주민번호입니다.\n"
     ]
    }
   ],
   "source": [
    "def jumin_check():\n",
    "    str = input()\n",
    "    jumin = [s for s in str] #강제 형변환을 jumin = [int(s) for s in str]로 한번에 가능\n",
    "    seq = [2,3,4,5,6,7,8,9,2,3,4,5]\n",
    "    sum = 0\n",
    "\n",
    "\n",
    "    for i in range(len(seq)):\n",
    "        sum += int(jumin[i])*seq[i] #맨 마지막 숫자를 뺴고 234567892345를 각 자리에 곱해서 더한다\n",
    "\n",
    "    sum = (11 - sum % 11)%10 #checksum의 공식 \n",
    "\n",
    "    if(sum == int(jumin[12])):\n",
    "        print(\"올바른 주민번호입니다.\")\n",
    "    else:\n",
    "        print(\"바르지 않은 주민번호입니다.\")\n",
    "\n",
    "jumin_check()"
   ]
  },
  {
   "cell_type": "code",
   "execution_count": 8,
   "metadata": {},
   "outputs": [
    {
     "name": "stdout",
     "output_type": "stream",
     "text": [
      "주민번호: 3\n"
     ]
    },
    {
     "data": {
      "text/plain": [
       "'3'"
      ]
     },
     "execution_count": 8,
     "metadata": {},
     "output_type": "execute_result"
    }
   ],
   "source": [
    "input(\"주민번호: \")"
   ]
  },
  {
   "cell_type": "code",
   "execution_count": null,
   "metadata": {},
   "outputs": [],
   "source": []
  }
 ],
 "metadata": {
  "kernelspec": {
   "display_name": "Python 3",
   "language": "python",
   "name": "python3"
  },
  "language_info": {
   "codemirror_mode": {
    "name": "ipython",
    "version": 3
   },
   "file_extension": ".py",
   "mimetype": "text/x-python",
   "name": "python",
   "nbconvert_exporter": "python",
   "pygments_lexer": "ipython3",
   "version": "3.7.6"
  }
 },
 "nbformat": 4,
 "nbformat_minor": 4
}
