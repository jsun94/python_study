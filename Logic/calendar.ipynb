{
 "cells": [
  {
   "cell_type": "code",
   "execution_count": 35,
   "metadata": {},
   "outputs": [],
   "source": [
    "# 윤년 : 4년에 한번 윤년이며 100년에 한번은 윤년이 아니고 400년에 한번은 반드시 윤년이다 -> if문\n",
    "# def isLeap(year):\n",
    "#     return (year%4 == 0 and year %100 != 0) or (year%400 == 0)\n",
    "\n",
    "# 연도까지의 날짜는 셀 수 있다"
   ]
  },
  {
   "cell_type": "code",
   "execution_count": 75,
   "metadata": {},
   "outputs": [],
   "source": [
    "def isLeap(year):\n",
    "    return (year%4 == 0 and year %100 !=0) or (year%400 == 0)"
   ]
  },
  {
   "cell_type": "code",
   "execution_count": 76,
   "metadata": {},
   "outputs": [],
   "source": [
    "def totalYear(year): #입력 연도까지의 일 수\n",
    "    total = 0\n",
    "    for i in range(year-1):\n",
    "        total += 365\n",
    "        if(isLeap(i+1)): #if isLeap is True\n",
    "            total += 1\n",
    "    return total"
   ]
  },
  {
   "cell_type": "code",
   "execution_count": 77,
   "metadata": {},
   "outputs": [
    {
     "data": {
      "text/plain": [
       "1"
      ]
     },
     "execution_count": 77,
     "metadata": {},
     "output_type": "execute_result"
    }
   ],
   "source": [
    "total = totalYear(2018)\n",
    "total%7 +1 #일요일을 기준으로 요일을 구할 수 있다 (해당 연도의 1월 1일을 확인하여 검증){1월 기준}"
   ]
  },
  {
   "cell_type": "code",
   "execution_count": 78,
   "metadata": {},
   "outputs": [],
   "source": [
    "def totalMonth(year, month): #해당 연도의 월의 전월까지의 일수의 합 {2020 7이면 2020 6월까지의 일 수의 합 해당 연도만}\n",
    "    total = 0\n",
    "    mon = [31,28,31,30,31,30,31,31,30,31,30,31]\n",
    "    if(isLeap(year)):\n",
    "        mon[1] = 29 # mon[1] +=1, 윤년이면 2월은 29일이다\n",
    "        \n",
    "    for i in range(month-1): #회전수는 입력 월의 -1이다.\n",
    "        total += mon[i]\n",
    "        \n",
    "    return total\n",
    "        "
   ]
  },
  {
   "cell_type": "code",
   "execution_count": 79,
   "metadata": {},
   "outputs": [
    {
     "data": {
      "text/plain": [
       "60"
      ]
     },
     "execution_count": 79,
     "metadata": {},
     "output_type": "execute_result"
    }
   ],
   "source": [
    "totalMonth(2020,3)"
   ]
  },
  {
   "cell_type": "code",
   "execution_count": 80,
   "metadata": {},
   "outputs": [],
   "source": [
    "def totalDay(year,month):\n",
    "    total = 0\n",
    "    total += totalYear(year)\n",
    "    total += totalMonth(year,month)\n",
    "    return total"
   ]
  },
  {
   "cell_type": "code",
   "execution_count": 81,
   "metadata": {},
   "outputs": [
    {
     "data": {
      "text/plain": [
       "3"
      ]
     },
     "execution_count": 81,
     "metadata": {},
     "output_type": "execute_result"
    }
   ],
   "source": [
    "total = totalDay(2020,7)\n",
    "total%7+1"
   ]
  },
  {
   "cell_type": "code",
   "execution_count": 108,
   "metadata": {},
   "outputs": [],
   "source": [
    "def cal(year, month): #달력 출력\n",
    "    days = [0]*42\n",
    "    mon = [31,28,31,30,31,30,31,31,30,31,30,31]\n",
    "    \n",
    "    if(isLeap(year)):\n",
    "        mon[1] = 29 # mon[1] +=1, 윤년이면 2월은 29일이다\n",
    "    week = 0\n",
    "    total = totalDay(year,month)\n",
    "    week = (total +1)%7\n",
    "    \n",
    "    for i in range(mon[month-1]): #채우는 반복문\n",
    "        days[i + week] = i+1\n",
    "        \n",
    "    print(\"%d년 %d월\"%(year, month)) # 년 월 출력\n",
    "    \n",
    "    title = \"일월화수목금토\" \n",
    "    for str in title:\n",
    "        print(\"%3s\"%str, end = '')\n",
    "    print()\n",
    "    \n",
    "    for i in range(6):\n",
    "        for j in range(7):\n",
    "            if(days[i*7 + j] >0): #days[i*7 + j] ->2차원을 풀어서 1차원으로\n",
    "                print(\"%4d\"%days[i*7 + j], end ='')\n",
    "            else:\n",
    "                print('    ', end = '')\n",
    "        print()\n",
    "#     return total\n",
    "    "
   ]
  },
  {
   "cell_type": "code",
   "execution_count": 110,
   "metadata": {},
   "outputs": [
    {
     "name": "stdout",
     "output_type": "stream",
     "text": [
      "2010년 2월\n",
      "  일  월  화  수  목  금  토\n",
      "       1   2   3   4   5   6\n",
      "   7   8   9  10  11  12  13\n",
      "  14  15  16  17  18  19  20\n",
      "  21  22  23  24  25  26  27\n",
      "  28                        \n",
      "                            \n"
     ]
    }
   ],
   "source": [
    "cal(2010,2)"
   ]
  },
  {
   "cell_type": "code",
   "execution_count": null,
   "metadata": {},
   "outputs": [],
   "source": []
  }
 ],
 "metadata": {
  "kernelspec": {
   "display_name": "Python 3",
   "language": "python",
   "name": "python3"
  },
  "language_info": {
   "codemirror_mode": {
    "name": "ipython",
    "version": 3
   },
   "file_extension": ".py",
   "mimetype": "text/x-python",
   "name": "python",
   "nbconvert_exporter": "python",
   "pygments_lexer": "ipython3",
   "version": "3.7.6"
  }
 },
 "nbformat": 4,
 "nbformat_minor": 4
}
